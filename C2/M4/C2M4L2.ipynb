{
 "cells": [
  {
   "cell_type": "markdown",
   "id": "30e150e3",
   "metadata": {},
   "source": [
    "# Developing documentation for project kick-off\n",
    "\n",
    "## The value of project documentation\n",
    "- Clear and consistent documentation can ensure transparency and clear communication. \n",
    "- Documentation helps set the stage for the project. It communicates the answers to key questions:\n",
    "a. What problem are you trying to solve ?\n",
    "b. What are the project goals ?\n",
    "c. What are the scope and deliverables, and who are the project's stakeholders ?\n",
    "d. What resources do they need to complete their work ?\n",
    "- Documenting decisions can help you uncover tasks, timelines, or costs. \n",
    "- Historical record that can be reviewed at the end of your project. \n",
    "\n",
    "## Projects proposals and charters 101\n",
    "\n",
    "1. Project proposal\n",
    "- A form of documentation that persuades a stakeholder to begin a project. \n",
    "- The project proposal kicks off the initiation phase by influencing and persuading the company to move forward with the project. \n",
    "- A project proposal is created earlier in the project life cycle than the project charter. \n",
    "- The proposal is only used at the earlier stages.\n",
    "\n",
    "2. Project charter\n",
    "- A formal document that clearly defines the project and outlines the necessary details needed to reach its goals.\n",
    "- The project charter's goal is to clearly define the key details of the project.\n",
    "- The project charter serves a similar purpose and often comes at the end of the initiation phase.\n",
    "- A charter will often serve as a point of reference throughout the life of a project.\n",
    "- Project charters make clear that the benefits of the project outweigh the cost of the project. \n",
    "- Include cost benefit analysis.\n",
    "- It help ensure that you and your stakeholders agree on the details of the project. rees on how to move forward before entering the planning phase. \n",
    "- Creating a project charter is a best practice for ensuring that everyone ag\n",
    "\n",
    "3. Cost Benefit Analysis\n",
    "- Business value created\n",
    "- Money saved\n",
    "- Time invested\n",
    "\n"
   ]
  },
  {
   "cell_type": "markdown",
   "id": "e1d30e6a",
   "metadata": {},
   "source": [
    "# Project charters: Elements and formats\n",
    "A project charter clearly defines the project and outlines the necessary details for the project to reach its goals. A well-documented project charter can be a project manager’s secret weapon to success. In this reading, we will go over the function, key elements, and significance of a project charter and learn how to create one. \n",
    "\n",
    "The charter is the formal way that the project’s goals, values, benefits, and details are captured. You can think of the charter as the compass for your project since you will use it throughout the life cycle of the project. Many stakeholders will look to your project charter to ensure that you are indeed aligned with strategic goals and set up for achieving the desired end goal. Since the project charter carries so much importance, it is important to incorporate the right amount of detail while omitting miscellaneous elements.\n",
    "\n",
    "As with any of your project documents, it is a good idea to collaborate with your team and stakeholders early and often. Developing the project charter in collaboration with both groups can help you make sure that your project charter addresses your key stakeholders’ most important concerns and keeps your team aligned. Be sure to use the business case—the reason for initiating the project—as the guiding direction to your project charter. Project charters can vary from organization to organization and from project to project. It is key for a project manager to identify the best type of charter for the project in order to capture the relevant information and set your project up for success. \n",
    "\n",
    "Project charters will vary but usually include some combination of the following key information:\n",
    "\n",
    "- introduction/project summary\n",
    "- goals/objectives \n",
    "- business case/benefits and costs\n",
    "- project team\n",
    "- scope\n",
    "- success criteria\n",
    "- major requirements or key deliverables\n",
    "- budget\n",
    "- schedule/timeline or milestones\n",
    "- constraints and assumptions\n",
    "- risks\n",
    "- OKRs\n",
    "- approvals"
   ]
  }
 ],
 "metadata": {
  "language_info": {
   "name": "python"
  }
 },
 "nbformat": 4,
 "nbformat_minor": 5
}
