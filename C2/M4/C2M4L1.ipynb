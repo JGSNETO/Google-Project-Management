{
 "cells": [
  {
   "cell_type": "markdown",
   "id": "00772bfb",
   "metadata": {},
   "source": [
    "# Understanding project resource needs\n",
    "\n",
    "## Essential Project Resources \n",
    "\n",
    "1. Budget\n",
    "- Estimate of the amount of money a project will cost to complete. \n",
    "2. People\n",
    "- The people who help execute the task of a project. \n",
    "3. Materials\n",
    "- Materials are items you need to help get the project done. \n",
    "4. Tools \n",
    "- Aids that help make it easier for a project manager or team to manage resources and organize work.\n",
    "- Tools can help you:\n",
    "a. Track tasks\n",
    "b. Manage budgets \n",
    "c. Collaborate with teammates\n"
   ]
  },
  {
   "cell_type": "markdown",
   "id": "db9d510a",
   "metadata": {},
   "source": [
    "# Managing resources to get the job done\n",
    "- As we continue learning the tools and techniques that will help you succeed in project management, let’s consider the importance of project resources. Project resources are who and what you depend on to complete a project, including budget, materials, and people. While each resource is a separate entity, they all depend on one another—your team cannot do the work without materials, and you cannot purchase materials without a budget. In this reading, we will discuss some key project resources and tips for managing them.\n",
    "\n",
    "## Budget\n",
    "Have you ever created a budget for yourself or your family? If you have, you know that a budget includes a wide variety of expenses. For example, a monthly personal budget can contain items that include anything from food to transportation costs to rent. With only a certain amount of funding to cover each expense, it is important to closely monitor your spending to avoid going over budget. If you go over in one category of your budget, you will impact the others and will need to make adjustments. As a project manager, you will take the same general approach with your project budget. \n",
    "\n",
    "Common aspects of your project budget will include:\n",
    "\n",
    "- Team: the cost of the people performing the work\n",
    "- Services: any outside vendors helping your project\n",
    "- Materials: any tangible items purchased to complete the project\n",
    "\n",
    "Throughout your project management career, you will encounter various types of projects with a wide range of budgets. Some budgets will have no margin for error, whereas other budgets may be more flexible. Regardless of this variability, budget issues will inevitably arise, so it is important to make sure that the budget is aligned with the project scope and the stakeholders’ asks. \n",
    "\n",
    "### People\n",
    "People are a vital resource on your project; you cannot complete your project on your own! You will need to rely on a strong team of people with a variety of skill sets and specialties to get the job done. As a project manager, make sure that you have commitment and buy-in on the number of hours it will take for your resources to complete their tasks. Additionally, you will find the best partners on a project are people who are aligned to the goals of the project or who are most interested in the project's work.\n",
    "\n",
    "### Materials\n",
    "Materials can be different on every project. For example, if you were working on an IT project, materials could include hard drives and computers to handle the coding efforts. You can also have materials that are intangible. For example, on the same IT project, online storage, software programs, or employee training may also be considered materials. It is important to account for any and all potential materials in order to execute a successful project with the right people and within budget. \n",
    "\n",
    "### Key takeaway\n",
    "Your project resources include things like the budget, people, and materials. As a project manager, remembering that your resources are dependent on one another is key to understanding the function of each resource and determining how to manage all of them. Take the time to interview stakeholders and potential team members about what resources they think they will need in order to deliver the project. They may have an idea of materials they require that you may not have accounted for within the budget, for example, or can identify people with expertise that would make them an asset to the project team. \n",
    "\n",
    "Next, we will discuss project charters, which are important tools that project managers use to gain clarity on the resources that they will need for a project.  \n",
    "\n"
   ]
  }
 ],
 "metadata": {
  "language_info": {
   "name": "python"
  }
 },
 "nbformat": 4,
 "nbformat_minor": 5
}
