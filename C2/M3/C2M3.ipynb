{
 "cells": [
  {
   "cell_type": "markdown",
   "id": "c3208450",
   "metadata": {},
   "source": [
    "# Accessibility for project managers\n",
    "\n",
    "- Accessibility: Actively removing any barriers that might prevents persons with disabilities from being able to access technology, information, or experiences, and leveling the playing filed so everyone has an equal chance of enjoying life and being successful. \n",
    "\n",
    "- As a project manager, you are responsible for making sure a group of people can come together to achieve a common goal.\n",
    "\n",
    "## Choosing a project team\n",
    "\n",
    "- When choosing a team, consider:\n",
    "1. Required roles\n",
    "2. Team size\n",
    "3. Necessary skills \n",
    "4. Availability \n",
    "5. Motivation "
   ]
  },
  {
   "cell_type": "markdown",
   "id": "1989c0e5",
   "metadata": {},
   "source": [
    "# Review: The building blocks of a project dream team\n",
    "In the previous video, we explored some considerations for choosing your project team and assigning their roles and responsibilities. Let’s recap what you learned and expand upon what to think about when building your project team. \n",
    "\n",
    "## Too big, too small, or just right?\n",
    "Once you lay the foundation for your project by outlining your goals and expectations, it is time to build your dream team! Though before we can build our dream team, we need to figure out how many people we need. This number will largely depend on the size of the project itself. Complex projects with large divisions of work will usually require larger project teams. Simple projects with straightforward expectations may only require a few people on the project team. As a project manager, it is your job to help find the right balance based on what is needed.\n",
    "\n",
    "## The right skills and abilities to fill the role\n",
    "Multiple roles exist in every project. On smaller teams, multiple roles may be filled by one person. To meet the needs of more specialized projects, project managers might require people who have the necessary technical skills. Technical skills are the skills specific to the task that needs to be performed. For example, on the Office Green project, necessary technical skills may include indoor landscaping design for the layout of the plants within the offices and floral design of plant arranging.  \n",
    "\n",
    "Technical skills are highly valued, but they are not the only skills that are important for high functioning teams. Interpersonal skills, also known as people skills or soft skills, such as patience and conflict mediation, can help team members. This allows the team to blend their technical expertise with collaborative skills in order to get the job done. When a team applies their interpersonal skills, they can minimize team-related issues. \n",
    "\n",
    "Problem-solving skills are a must for all team members, especially when it comes to large, complex projects. As a project manager, you will not be able to solve every problem for your team. At some point, they will need to use their own judgment to problem-solve and get the work done. \n",
    "\n",
    "An underrated skill set for project team members are leadership skills. Strong leadership skills help team members navigate organizational boundaries and effectively communicate with stakeholders to generate buy-in. \n",
    "\n",
    "## Who is available?\n",
    "In projects, the availability of your team is always a big concern. This is especially true in Matrix organizations, where team members have multiple bosses. It is not uncommon to pull a team member onto another project before your project is complete. In a perfect world, you only pick those who can stay on the project for its entire life cycle. You may find that you don’t get to pick certain members of your team at all, which is called a pre-assignment. In these cases, the sponsor assigns team members to your project.\n",
    "\n",
    "Keep in mind that you need to value diversity early on when building your team. On diverse teams, everyone is able to use their unique professional and personal experiences to contribute to a more successful project. Diversity is best leveraged when it is acknowledged and highlighted as an asset. Many people avoid discussing their differences, but if you encourage those conversations, you will find a richer understanding and greater creativity that comes from people working together across identity differences. To do this effectively, it is important to dedicate time early on in the team building process to develop trust between team members. Team members who understand one another are more likely to trust each other and feel safe sharing different points of view or offer a competing perspective. This will also allow them to more easily offer constructive feedback or be supportive if the team dynamics face challenges at any point.\n",
    "\n",
    "## What motivates them?\n",
    "Be sure to take note of the motivation level of your team members and the impact it may have on your project. Just because a person is pre-assigned to a project, doesn’t necessarily mean they have low interest in it, but a person who proactively volunteered for it may have additional motivation to do the work.\n",
    "\n",
    "As a project manager, it is your responsibility to engage your team and keep them motivated. This is where your influence as a leader is required to keep the team engaged and ready to overcome any obstacles that may appear. Engaging in a respectful manner and maintaining a positive outlook with your team during times of adversity are simple ways to keep your team motivated.  \n",
    "\n",
    "## Key takeaway \n",
    "In summary, team size, skills, availability, and motivation are the building blocks to creating your very own dream team. Always keep in mind that a project manager does not just select dream teams, they create dream teams through collaboration under great leadership. This is the leadership that you will provide as a project manager. "
   ]
  },
  {
   "cell_type": "markdown",
   "id": "57b79bcb",
   "metadata": {},
   "source": [
    "# Defining project roles \n",
    "\n",
    "1. Project Sponsor \n",
    "- The person who is accountable for the project and who ensures the project delivers the agreed upon business benefits. \n",
    "2. Team Member \n",
    "- The people doing the work and making things happen. \n",
    "3. Customers \n",
    "- The people who will get some values from a successfully landed project. \n",
    "4. Users \n",
    "- The people that use the product produced by your project. \n",
    "5. Stakeholder \n",
    "- Anyone involved in the project who has a vested interest in the project's success.\n",
    "6. Project Manager\n",
    "- The person who plans, organizes, and oversees the whole project. \n",
    "\n",
    "## The importance of a project team\n",
    "\n",
    "- The most important part about program management is understanding the personalities of the people you work with so that you can tailor your approach to make sure that you are working effectively with them. \n"
   ]
  },
  {
   "cell_type": "markdown",
   "id": "da1a7c98",
   "metadata": {},
   "source": [
    "# Essential project roles\n",
    "In this lesson, you are learning to define project roles and responsibilities. Let’s now build on what you have learned about building your project team and focus on how to further identify the core roles and responsibilities that are critical to any project.   \n",
    "\n",
    "## The project manager\n",
    "Although all team members are responsible for their individual parts of the project, the project manager is responsible for the overall success of the team, and ultimately, the project as a whole. A project manager understands that paying close attention to team dynamics is essential to successfully completing a project, and they use team-building techniques, motivation, influencing, decision-making, and coaching skills, to keep their teams strong. \n",
    "\n",
    "Project managers integrate all project work by developing the project management plan, directing the work, documenting reports, controlling change, and monitoring quality. \n",
    "\n",
    "In addition, project managers are responsible for balancing the scope, schedule, and cost of a project by managing engagement with stakeholders. When managing engagement with stakeholders, project managers rely on strong communication skills, political and cultural awareness, negotiation, trust-building, and conflict management skills.\n",
    "\n",
    "## Stakeholders\n",
    "Have you ever heard the phrase “the stakes are high\"? When we talk about “stakes,” we are referring to the important parts of a business, situation, or project that might be at risk if something goes wrong. To hold stake in a business, situation, or project means you are invested in its success. There will often be several parties that will hold stake in the outcome of a project. Each group’s level of investment will differ based on how the outcome of the project may impact them. Stakeholders are often divided into two groups: primary stakeholders, also known as key stakeholders, and secondary stakeholders. A primary stakeholder is directly affected by the outcome of the project, while a secondary stakeholder is indirectly affected by the outcome of the project. \n",
    "\n",
    "Primary stakeholders usually include team members, senior leaders, and customers. For example, imagine that you are a project manager for a construction company that is commissioned to build out a new event space for a local catering company. On this project, the owners of the catering company would be primary stakeholders since they are paying for the project.\n",
    "\n",
    "Another primary stakeholder could be the CEO of your construction company. If the CEO likes to be directly involved with projects for local businesses like the catering company, that would make them a primary stakeholder. \n",
    "\n",
    "An example of a secondary stakeholder might be the project’s point of contact in legal. While the project outcome might not affect them directly, the project itself would impact their work when they process the contract. Each project will have a different set of stakeholders, which is why it’s important for the project manager to know who they are, what they need, and how to communicate with them.\n",
    "\n",
    "## Project team members \n",
    "Every successful team needs strong leadership and membership, and project management is no exception! Project team members are also considered primary stakeholders, since they play a crucial role in getting the job done. Your team members will vary depending on the type, complexity, and size of the project. It’s important to consider these variables as you select your project team and begin to work with them. Remember that choosing teammates with the right technical skills and interpersonal skills will be valuable as you work to meet your project goals. If you are not able to select your project team, be sure to champion diversity and build trust to create harmony within the team. \n",
    "\n",
    "## Sponsor\n",
    "The project sponsor is another primary stakeholder. A sponsor initiates the project and is responsible for presenting a business case for its existence, signing the project charter, and releasing resources to the project manager. The sponsor is very important to the project, so it’s critical to communicate with them frequently throughout all project phases. In our construction company example, the CEO could also be the project sponsor.\n",
    "\n",
    "## Key takeaway \n",
    "Although the roles involved in each project will vary, all projects will include a project manager and primary stakeholders who are directly impacted by the project’s outcome, such as team members, senior leaders, the customer, and the project sponsor. Secondary stakeholders, whose work less directly impacts the project, may also play a role. Keep these roles in mind as we take a closer look at the importance of stakeholders."
   ]
  }
 ],
 "metadata": {
  "language_info": {
   "name": "python"
  }
 },
 "nbformat": 4,
 "nbformat_minor": 5
}
