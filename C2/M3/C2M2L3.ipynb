{
 "cells": [
  {
   "cell_type": "markdown",
   "id": "a7d7d0f7",
   "metadata": {},
   "source": [
    "# Launching and Landing a project\n",
    "\n",
    "- Launch: Delivering the final result of your project to the client or user.\n",
    "- Landing: Measuring the success of your project using the sucess criteria established at the outset of the project. \n",
    "- Success Criteria: Includes all the specific details of your goals and deliverables, and it can be a guide so you know whether you've accomplished what you set out to do. Success criteria will set standards for how your project will be judged."
   ]
  },
  {
   "cell_type": "markdown",
   "id": "1c216fb5",
   "metadata": {},
   "source": [
    "# Don't forget to land: Measuring project success\n",
    "In this lesson, you are learning to distinguish the difference between a project launch and a project landing. Let’s focus here on the difference between launches and landings and how to ensure that your project will be completed successfully.\n",
    "\n",
    "You will often hear companies celebrating the launch of a new product, service, or initiative, and it is important to remember that even when your project is out in the world, your work isn’t complete. When working on a project, the goal isn’t simply to launch it, but to land it. Landings occur once your project achieves a measure of success. As project managers, landings are what we strive for and what we celebrate. They are the ultimate reward for all of our efforts. \n",
    "\n",
    "## Launching vs. landing a project\n",
    "In project management, a project “launching” means you have delivered the final results of the project to the client or user. You can’t solely base project success on when the client accepts the project, though. Your work on a project won’t be complete until you “land” it by thoroughly measuring the results. This is when the success criteria and the metrics you defined initially when setting SMART goals will come in handy.  \n",
    "\n",
    "Teams should be clear on what they are trying to accomplish, beyond just launching something to users. Will your project increase retention? Will your project speed up a product feature? Depending on the product and situation, the answers will differ, but it is important that your team aligns and works toward the same measurable goal. \n",
    "\n",
    "## Launch first, land later\n",
    "Let’s consider an example: imagine you are a project manager for an eco-friendly organization. Your organization asks you to create a training program for middle school students in your county to teach them about the impacts of recycling. The county's goal is to increase recycling by 20% over the next five years. You gather your team and start developing the learning content to build out this training program. It takes you and your team one year to complete the research, development, and production of this training. When you hand over the training to the school district, you are launching the project. In order to know your project actually landed at the intended goal, you need to check back in periodically over the next five years to see if the training program is on target to produce a 20% increase in recycling in the county.  \n",
    "\n",
    "## Launch and forget\n",
    "A common mistake of many project teams is to “launch and forget” the results. This happens when a project manager delivers the project to the client and the client accepts the project delivery, but the project manager doesn’t assess if the project deliverables satisfy the customer or user. In the example above, if you didn’t check back periodically over five years to assess the results, you would have only launched—but not landed—the project. Launching and landings work in tandem to ensure true success. \n",
    "\n",
    "A project landing shouldn’t create more hurdles. If done correctly, a landing creates greater alignment within the teams on the end results you all desire, and it gives everybody on the team better visibility on how to achieve success. \n",
    "\n",
    "## Key takeaway\n",
    "Launching your project to the client can be a very big moment for you. You handed over the project to your client and now you can take a step back and breathe. But make sure you land your project, as well. Look over your notes, talk with your team, meet with the client, and remember to return to your intended deliverables and metrics to help you measure success. \n",
    "\n"
   ]
  },
  {
   "cell_type": "markdown",
   "id": "1200c588",
   "metadata": {},
   "source": [
    "# Success Criteria\n",
    "\n",
    "- Tells you whether or not the project was successful. \n",
    "- Specific details of project goals, deliverables, requirements, and expectations. \n",
    "- The standard by which the project will be jusdge once it is been delivered to stakeholders. \n",
    "- Defining success criteria also clarifies for your team what they're trying to accomplish beyond just launching something to users.\n",
    "- Include the methods for how success will be measured, how often it is measured, and who is responsible for measuring it. \n",
    "- Defining your success criteria should create greater alignment within the team and give everybody better visibility into how to achieve success. \n",
    "\n",
    "## Defining Project Success \n",
    "\n",
    "- Identify the measurable aspects of your project. \n",
    "- Get clarity from stakeholders on the project requimrents and expectations. \n",
    "\n",
    "# customer-related metrics\n",
    "\n",
    "- Adoption: Refers to how the customer uses and adopts a product or service without any issues. \n",
    "\n",
    "- Engagement: How often or meaningful customer interaction and participation is over time. "
   ]
  },
  {
   "cell_type": "markdown",
   "id": "c5a9fb32",
   "metadata": {},
   "source": [
    "# Tracking and communicating success criteria\n",
    "We recently covered the topic about launching and landing projects, and now we will turn our focus to ensuring that our landings are successful. \n",
    "\n",
    "Recall that SMART goals are Specific, Measurable, Attainable, Relevant, and Time-bound and help keep a project on track for success. \n",
    "\n",
    "We can also determine the success of a project by the quality of the product, the ability to fulfill the needs of your customers, and the need to meet the expectations of your stakeholders. For this reading, we will discuss these particular success criteria, the metrics we use to track them, and how and why we communicate our findings.  \n",
    "\n",
    "## Product quality \n",
    "The product, or final result, of a project has its own set of attributes that define success. The product attributes that are necessary for the product’s success include completeness in features, quality of features, unit cost, usability, etc. The extent that a product is complete will contribute to the product’s success. This can apply to any project in which you deliver a product or tangible outcome at the end. To keep us on track for success, we can create a list of product requirements to ensure that you do not miss anything. For example, if the project produces word processing software, you need basic features like text entry, formatting, saving, and printing. Since you require each feature to have a functional word processor by today’s standards, you include these features on your checklist. \n",
    "\n",
    "To measure the success of a product, consider including these metrics on your checklist: \n",
    "\n",
    "- Track if you implemented the product’s priority requirements\n",
    "- Track and assess the product’s number of technical issues or defects\n",
    "- Measure the percentage of features you delivered or released at the end of the project\n",
    "\n",
    "## What is important to the customers or stakeholders \n",
    "We have to pay attention to product metrics, but we also have to be mindful of stakeholder and customer additional expectations for features and objectives. In the word processor example, a stakeholder may want to add an additional functionality to easily create tables in a document with text. Additionally, a strategic goal of the organization could be to create word processor software with more collaborative ability than the word processors currently on the market. Each component is necessary in order to meet customer and stakeholder expectations. Think about what needs the project satisfies for your stakeholders or customers. These strategic goals tie back to the business case and the reason you initiated the project in the first place. Often, you can measure the fulfillment of strategic goals via user or customer metrics. Metrics to consider include:\n",
    "- Evaluating user engagement with the product \n",
    "- Measuring stakeholder and customer satisfaction via surveys\n",
    "- Tracking user adoption of the product by using sales data\n",
    "\n",
    "## Document, align, and communicate success\n",
    "Understanding where we are and where we are going helps the project team determine if they are on track. As you learned in the video on this topic, you need to get clarity from stakeholders on the project requirements and expectations. There are many people involved with any project, and success will look different for each of them. You want to ask questions, such as: Who ultimately says whether or not the project is successful? What criteria will be measured to determine success? What is the success of this project based on? It is best practice to get the key stakeholders or the steering committee to review and approve your success criteria. This becomes a mutual agreement on how all parties define the success of the project. \n",
    "\n",
    "## Key takeaway\n",
    "Remember, all projects encounter change. All parties must have continuous access and alignment to the success criteria agreed upon to avoid scope creep (uncontrolled change of the project’s scope) or failed expectations at the end of the project. It’s important to document success criteria upfront and continue to report on it throughout the project."
   ]
  },
  {
   "cell_type": "markdown",
   "id": "95d574b9",
   "metadata": {},
   "source": [
    "# Using OKRs to evaluate progress\n",
    "In this lesson, you are learning to define a project’s success criteria, the measurable attributes project managers use to determine whether or not a project was successful as a whole. This reading will focus on using OKRs to evaluate a project’s progress.\n",
    "\n",
    "## Objectives and Key Results (OKRs)\n",
    "You have learned that OKRs—Objectives and Key Results--combine a goal and a metric to determine a measurable outcome. Setting OKRs is a technique that can help project teams define, communicate, and measure shared success criteria.\n",
    "\n",
    "## Communicating and tracking OKRs\n",
    "Conducting regular check-ins and actively tracking progress with your team can help ensure that objectives are being met and that any issues are resolved as soon as possible. \n",
    "\n",
    "- Share your OKRs with your team. Once you’ve created OKRs for your project, it’s important to communicate them to your team so that everyone knows how to focus and align their efforts. You can do this by sharing a digital document, presenting them in a meeting, or adding them to an internal website. OKRs can help your project team stick to its goals, monitor which are falling short, and be continuously motivated to meet project objectives. \n",
    "\n",
    "- Assign owners. Assign an owner to every key result so that everybody knows who’s responsible for what. This helps add clarity and increases accountability.\n",
    "\n",
    "## Measuring progress\n",
    "Measuring your OKRs is an important part of tracking and sharing your progress. One shortcut to determining the status of a project is to score or grade your OKRs. While scores or grades don’t provide a complete assessment of a project’s success, they’re helpful tools for determining how close you came to achieving your objectives. You can then share your OKR scores with project stakeholders and team members as part of your overall project updates.\n",
    "\n",
    "Determine how you will score your OKRs. OKRs can be scored in different ways. You can score based on a percentage of the objective completed, the completion of certain milestones, or a scale of 1 to 10, for example. You can also use a “traffic light” scoring approach, where red means you didn’t make any progress, yellow means you made some progress, and green means you completed your objective.\n",
    "\n",
    "The simplest approach to scoring OKRs is the “yes/no” method, with “yes” meaning you achieved your objective and “no” meaning you didn’t. Using this approach, a key result such as “Launch a new widget marketing campaign” might be graded a 1 or 0 depending on whether it was launched (1) or not (0). \n",
    "\n",
    "A more advanced scoring approach is to grade your key results on a scale. With this method, if a key result was to “Launch six new features” and only three new features were launched, the OKR might be graded 0.5. Generally, if the KR helped you achieve the objective, your OKR should receive a higher score; if it didn't, your OKR should receive a lower score. \n",
    "\n",
    "At Google, OKRs are usually graded on a scale of 0.0 to 1.0, with 1.0 meaning the objective was fully achieved. Each individual key result is graded and then the grades are averaged to determine the score for that OKR.\n",
    "\n",
    "Set your scoring expectations. With Google’s 0.0–1.0 scale, the expectation is to set ambitious OKRs and aim to achieve an average of at least 0.6 to 0.7 across all OKRs. For OKRs graded according to percentage achieved, the sweet spot is somewhere in the 60–70% range. Scoring lower may mean the team is not achieving what it could be. Scoring higher may mean the aspirational goals are not being set high enough. \n",
    "\n",
    "Schedule checkpoints. It’s important to regularly communicate the status of project OKRs with your team and senior managers. For example, it can be helpful to have monthly check-ins on the progress of OKRs to give both individuals and your team a sense of where they are. Typically, at the end of the quarter, you’ll grade each of your OKRs to evaluate how well the team did to achieve its goals.\n",
    "\n",
    "## Key takeaway\n",
    "OKRs can help you define and measure your project’s success criteria. In order for OKRs to be used to effectively meet your project’s success criteria, it’s important to share them with your team, assign owners to each key result to ensure accountability, measure your OKRs’ progress by scoring them, and track your OKRs’ progress by scheduling regular check-ins with your team."
   ]
  }
 ],
 "metadata": {
  "language_info": {
   "name": "python"
  }
 },
 "nbformat": 4,
 "nbformat_minor": 5
}
