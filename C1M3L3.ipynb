{
 "cells": [
  {
   "cell_type": "markdown",
   "metadata": {},
   "source": [
    "# Comparing project management methodologies and approaches\n",
    "\n",
    "## Project management methodology\n",
    "- A set of guiding principles and processes for owning a project through its life cycle. \n",
    "- Linear means the previous phase or task has to be completed before the next can start. \n",
    "- Iterative means some of the phases and tasks will overlap or happen at the same time that other tasks are being worked on. "
   ]
  }
 ],
 "metadata": {
  "language_info": {
   "name": "python"
  }
 },
 "nbformat": 4,
 "nbformat_minor": 2
}
