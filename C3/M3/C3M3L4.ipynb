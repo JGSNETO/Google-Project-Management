{
 "cells": [
  {
   "cell_type": "markdown",
   "id": "1b878847",
   "metadata": {},
   "source": [
    "# Navigating procurement challenges\n",
    "\n",
    "## Obtaining procurement support\n",
    "\n",
    "- Always consult with the legal team. \n",
    "\n",
    "##  Ethics in the procurement process\n",
    "\n",
    "- Project Management Institute(PMI)\n",
    "- Honesty, responsibility, respect, and fairness are the values that drive ethical conduct for the project management profession. \n",
    "\n",
    "1. Potential unethical risks\n",
    "a. Bribery or corruption\n",
    "b. Sole-supplier sourcing \n",
    "c. Interaction with state ownser agencies\n"
   ]
  }
 ],
 "metadata": {
  "language_info": {
   "name": "python"
  }
 },
 "nbformat": 4,
 "nbformat_minor": 5
}
