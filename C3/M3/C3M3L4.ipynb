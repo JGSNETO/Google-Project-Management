{
 "cells": [
  {
   "cell_type": "markdown",
   "id": "1b878847",
   "metadata": {},
   "source": [
    "# Navigating procurement challenges\n",
    "\n",
    "## Obtaining procurement support\n",
    "\n",
    "- Always consult with the legal team. \n",
    "\n",
    "##  Ethics in the procurement process\n",
    "\n",
    "- Project Management Institute(PMI)\n",
    "- Honesty, responsibility, respect, and fairness are the values that drive ethical conduct for the project management profession. \n",
    "\n",
    "1. Potential unethical risks\n",
    "a. Bribery or corruption\n",
    "b. Sole-supplier sourcing \n",
    "c. Interaction with state ownser agencies\n"
   ]
  },
  {
   "cell_type": "markdown",
   "id": "1bca9dc5",
   "metadata": {},
   "source": [
    "# Avoiding ethical traps in procurement\n",
    "Now that you have learned about the importance of ethics when conducting procurements, let’s talk about some potential ethical traps you might face and how to navigate them. \n",
    "\n",
    "## Understanding ethical traps \n",
    "An ethical trap is an ethical dilemma that causes us to make a certain decision without regard for our ethical principles. You may face ethical traps throughout the course of a project. However, ethics can be of particular concern when it comes to procurement. As you have learned, project managers must take precautions to ensure that they and their suppliers are following ethical principles during the procurement process. \n",
    "\n",
    "## Common ethical traps\n",
    "Sometimes, potential ethical issues can be overlooked or can be considered the necessary cost of doing business. This is a dangerous line of thinking since these types of assumptions can put your project, company, and career at risk. To review what we discussed in the video, a few of the most common ethical traps that exist when conducting procurements are corruption and bribery, sole-supplier sourcing, and interactions with state-owned agencies.\n",
    "\n",
    "## Corruption and bribery   \n",
    "You may be confronted with different types of corruption when going through the procurement process. One form of corruption is when a vendor seeks to reduce the competition for a contract during the bidding process. A company may attempt to bribe members within the organization to sway their decision into a favorable outcome for the vendor. Bribes may include things like money, gifts, tickets to events, and more. Another type of corruption scheme is to offer a certain percentage of an awarded contract—also known as a kickback—to an official who can ensure that their company wins the bid.\n",
    "\n",
    "## Sole-supplier sourcing   \n",
    "In some situations, having a vendor who a company is already familiar with smooths the procurement process and works well for both parties. Ethical issues arise when other vendors aren’t even allowed to bid for contracts for which they are similarly qualified. With sole-supplier sourcing, vendors may reach out to buyers before a bid is even requested. When the buyer’s organization decides to work with that vendor based on their previously-established relationship, that limits competition before the bidding has even begun. When this happens, companies and the public miss out on the advantages of competition, such as reasonable pricing, product quality standards, or speedy delivery options.\n",
    "\n",
    "## Interactions with state-owned entities\n",
    "There are some instances in which government agencies require an organization to adhere to stricter ethical standards than they might have otherwise. Governmental agencies such as the Food and Drug Administration and The Occupational Safety and Health Administration, for example, keep businesses within legal and ethical standards. If you are unfamiliar with any governmental restrictions that may affect your industry, organization, or project, you could unintentionally fall into an ethical trap.\n",
    "\n",
    "## Avoiding ethical traps   \n",
    "Here are some guidelines that will help you avoid falling into ethical traps when it comes to procurement:\n",
    "\n",
    "\n",
    "## Understand the legal requirements for your procurements. \n",
    "Every country has regulations to adhere to when conducting business in that country. Be sure to research the legal and ethical requirements based on your project and procurement needs, and if your organization has a legal team, make sure to lean on them for support and advice.\n",
    "\n",
    "## Stick to your ethical codes. \n",
    "Honesty, responsibility, respect, and fairness are the values that underpin ethical behavior in the project management profession. The Project Management Institute’s (PMI) code of ethics provides detailed guidelines to help ensure you maintain ethical conduct in your projects. \n",
    "\n",
    "## Test your ethics. \n",
    "When you face an ethical dilemma, ask yourself questions in each of the following categories:\n",
    "\n",
    "- Shame: Would you be ashamed if someone knew what you did?\n",
    "- Community: Would you want your friends to know the decision you made? \n",
    "- Legal: Would you face legal action if you took this action? \n",
    "- Situation: Would your actions be justified in this situation?\n",
    "- Consequence: Would a negative outcome be worth your actions? "
   ]
  }
 ],
 "metadata": {
  "language_info": {
   "name": "python"
  }
 },
 "nbformat": 4,
 "nbformat_minor": 5
}
