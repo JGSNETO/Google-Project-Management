{
 "cells": [
  {
   "cell_type": "markdown",
   "id": "8a1c31d9",
   "metadata": {},
   "source": [
    "# Documenting project planning resources\n",
    "\n",
    "## The value of project documentation\n",
    "\n",
    "- Documentation storage and sharing is very important.\n",
    "- Having plans in one place makes communication quicker, easier, and more streamlined. \n",
    "- Documenting and organizing plans provides visibility and accountability. \n",
    "- Having up-to-dates plans will help ensure there is no room for miscommunication. \n",
    "- Not everyone needs full access to project documentation.\n",
    "- Summarize relevant information for those who need to stay informed of final outcomes, but dont need all the background information. \n",
    "- Documenting plans in one place, provides continuity. \n",
    "- Store project documentation in a centralized place that is clearly labeled. \n",
    "- Make sure people in relevant roles are granted access to documents so that even in your absence the project can carry on. \n",
    "- Knowledge Management: A way of ensuring that project data can be accessed in the future by others who need it for informing decisions or planning similar projects. \n",
    "- Pro tip: Determine what kind of information to share with whom and when. Protect sensitive date from unauthorized viewers. \n",
    "- Need-to-know basis: Telling someone facts they need to know at the time they need to know them, and nothing more.\n",
    "- Personally identifiable information(PII): Information that could be used on its own to directly identify, contact or precisely locate an individual.  \n",
    "\n",
    "## Organizing project documentation\n",
    "\n",
    "- Have all of your project resources documented and linked so that you or anyone on the project can access what they need quickly. \n",
    "\n",
    "## Organizing artifacts for a job interview\n",
    "\n",
    "- \" I am always thinking about packaging and telling a story behind all of it so I can continue to do the great work that I do \" \n",
    "- \" It is really important to be able to speak to how those artifacts allowed you to be successful \"\n",
    "\n"
   ]
  }
 ],
 "metadata": {
  "language_info": {
   "name": "python"
  }
 },
 "nbformat": 4,
 "nbformat_minor": 5
}
