{
 "cells": [
  {
   "cell_type": "markdown",
   "id": "a29563b7",
   "metadata": {},
   "source": [
    "# Using estimation to set project timelines\n",
    "\n",
    "## Making realistic time estimates\n",
    "\n",
    "- Time estimation: A prediction of the total amound of time required to complete a task. \n",
    "- Effort estimation: A prediction of the amount and difficulty of active work required to complete a task. \n",
    "- Unrealistic effor estimates happen when you have understimated the amount of time it will take to complete a task. \n",
    "- Too much optimism can lead you to overlook potential risks that could set your plans behind schedule. \n",
    "- Your teammates will have the most realistic understanding of the amount of work required to complete a task, and will be able to provide you with the best estimate. \n",
    "- Sub-tasks: Smaller tasks that are required to complete a larger task. \n",
    "- Asking the teammate assigned to the task for their estimate is likely to yield a more accurate estimation. \n",
    "- Buffer: Extra time added to the end of a task of project to account for unexpected slowdowns or delays in work progress. \n",
    "- Types of scheduling buffers:\n",
    "1. Task buffers: Extra time tacked on to a specific task. It should be used primarily for tasks that are out of the project team's control. It should be used more sparingly for tasks within the team's control. Adding a buffer to every project task could lengthen your project schedule unnecessarily. \n",
    "2. Project Buffer: Extra time tacked onto the end of a project. "
   ]
  },
  {
   "cell_type": "markdown",
   "id": "1964f7a1",
   "metadata": {},
   "source": [
    "# Overcoming the planning fallacy\n",
    "It is human nature to underestimate the amount of time and effort it takes to complete a task—from anything as simple as walking the dog to something as complex as completing a project. People generally want to remain hopeful about a positive outcome, and this is a great quality to have as a person. But as a project manager, this kind of optimism can also be a deficiency, especially during the planning phase of a project. Let’s examine a theory known as the planning fallacy to better understand how to set yourself up for success in the planning phase.\n",
    "\n",
    "## The planning fallacy and optimism bias\n",
    "The idea of the planning fallacy was first introduced in a 1977 paper written by Daniel Kahneman and Amos Tversky, two foundational figures in the field of behavioral economics. The planning fallacy describes our tendency to underestimate the amount of time it will take to complete a task, as well as the costs and risks associated with that task, due to optimism bias. Optimism bias is when a person believes that they are less likely to experience a negative event. For example, when you are planning to walk your dog in between meetings, you might think that you can do it faster than you actually can. Optimism bias is what tells you that you are going to be able to walk your dog without being late for your next meeting. If you don’t consider things that might affect the time it will take you to walk your dog—the weather, the chance of them running into another dog and wanting to play, or the fact that they frequently get distracted while sniffing around—you might be late for your next meeting, or you might miss it altogether! \n",
    "\n",
    "The planning fallacy can happen to anyone, regardless of whether or not they have experience completing similar tasks. Whether this is your first time walking your dog or your hundredth, you still have to consider the different factors that can affect how long it will take you to complete the walk. This same principle applies in project management. You may be brand new to this kind of project or you may have managed tons of similar projects before; either way, you still need to be careful not to underestimate the time it will take to complete each task on this particular project. As a project manager, you should aim to balance being aware of the planning fallacy with keeping an optimistic attitude about the project, even as things change. Be optimistically realistic: Push for the best outcomes while planning for the proper time it may take to accomplish each task.\n",
    "\n",
    "## Avoiding the planning fallacy: A case study\n",
    "Think about the planning fallacy in relation to yourself as a project manager. If you have planned massive efforts in your project plan with an optimism bias, this planning fallacy could have a major impact on your project execution. You could set your team up for failure by not giving them enough time to complete their tasks, causing work to have to be redone or missing opportunities to execute the project more efficiently.\n",
    "\n",
    "Let’s examine how this happens. David is a project manager responsible for a home construction project. Let’s check out his Work Breakdown Structure (WBS): \n",
    "\n",
    "Working through his plan, David knows that certain things need to happen for the house to be completed. He has to order materials, the materials have to be delivered, the contractor has to actually build the house, and there needs to be time for completing finishing touches and adjustments. The time estimations for those major tasks might break down like this:\n",
    "\n",
    "After creating a WBS and a time estimation chart, David estimates that the construction project will take a total of ten weeks. This sounds perfect because it meets his delivery requirement. If David is unaware of the planning fallacy, he may think his plan is solid and that his team is on their way to building the house within the target timeline!\n",
    "\n",
    "Fortunately, David is mindful of the planning fallacy. He examines the time estimates more carefully. He considers risks like weather delays or crew members calling out sick, which could set the project’s completion date back. He meets with his team members and other stakeholders to help him uncover other possible risks that could affect the project timeline. After carefully gathering information, he adjusts the time estimates, adding task buffers to some of the project tasks to account for the potential risks.\n",
    "\n",
    "## Key takeaways\n",
    "Being on the lookout for “what-ifs” is a key project management skill. Considering situations that could affect whether or not the project is completed on time can help you overcome the planning fallacy. Also, you will always have a project team in your corner, so make sure you use them as resources to help uncover possible risks. Remember to be “optimistically realistic” and push for the best outcome while still planning for the proper time to accomplish each task."
   ]
  },
  {
   "cell_type": "markdown",
   "id": "6e5e846d",
   "metadata": {},
   "source": [
    "# Capacity Planning and the critical path\n",
    "\n",
    "- Capacity: The amount of work that people or resources assigned to the project can reasonably complete in a set period of time. \n",
    "- Capacity Planning: Refers to the act of allocating people and resources to project tasks, and determining whether or not you have the necessary resources required to complete the work on time. \n",
    "- The critical path: The list of project milestones you must reach in order to meet the project goal on schecule, as well as the mandatory tasks that contribute to the completion of each milestone. Your critical path includes the bare minimum number of tasks and milestones you need to reach your project goal. \n",
    "- Identify which tasks can happen in parallel vs sequentially.\n",
    "- Determine which project tasks have a fixed start date. \n",
    "- Determine which project tasks have an earliest start date. \n",
    "- Identify if a task has float.\n",
    "- Float refers to the amount of time you can wait to begin a task before it impacts the project schedule and threatens the project outcome.\n",
    "- Tasks on the critical path should have zero float.  "
   ]
  },
  {
   "cell_type": "markdown",
   "id": "968cb7fe",
   "metadata": {},
   "source": [
    "# Creating a critical path\n",
    "As you’ve just learned, the critical path refers to the list of required project milestones you must reach to complete the project schedule, as well as the mandatory tasks that contribute to the completion of each milestone. You can think of the critical path as a framework that tells you, the project manager, where you are, where you are headed, and when you will get there. \n",
    "\n",
    "## Why the critical path is critical\n",
    "The critical path helps you determine the essential tasks that need to be completed on your project to meet your end goal and how long each task will take. The critical path also provides a quick reference for critical tasks by revealing which tasks will impact your project completion date negatively if their scheduled finish dates are late or missed. A critical path can help you define the resources you need, your project baselines, and any flexibility you have in the schedule. \n",
    "\n",
    "## How to create a critical path\n",
    "Each project you work on will be different, but there are some general steps for creating a critical path that are applicable to most projects.\n",
    "\n",
    "## Step 1: Capture all tasks \n",
    "When you first start working on your project schedule, you will capture all of the tasks associated with the completion of the effort. Remember to use the key planning documents you have created to get you to this point, such as your work breakdown structure (WBS). The main goal in this step is to make sure that you aren’t missing a key piece of work that is required to complete your project. When creating a critical path, focus on the essential, “need to do” tasks, rather than the “nice to do” tasks that aren’t essential for the completion of the project. Here is an example of critical tasks for building the structure of a house.\n",
    "\n",
    "## Step 2: Set dependencies \n",
    "Now that you have captured all of your critical tasks in list form, arrange those tasks in order of completion by identifying dependencies. To determine dependencies, figure out which tasks must be completed before other tasks can start. For example, you can’t paint the outside of a house before the house is built, so the task of framing the walls must come before the task of painting them. Identifying dependencies is key to a successful project schedule. \n",
    "\n",
    "To figure out dependencies for each task, ask:\n",
    "\n",
    "- Which task needs to take place before this task?\n",
    "- Which task can be finished at the same time as this task?\n",
    "- Which task needs to happen right after this task?\n",
    "- Once you have answered these questions, you can list these dependencies next to your list of tasks:\n",
    "\n",
    "## Step 3: Create a network diagram\n",
    "One common way to visualize the critical path is by creating a network diagram. Network diagrams, like the example below, sequence tasks in the order in which they need to be completed, based on their dependencies. These diagrams help visualize:\n",
    "\n",
    "- The path of the work from the start of the project (excavation) to the end of the project (flooring)\n",
    "- Which tasks can be performed in parallel (e.g., HVAC and plumbing) and in sequence (e.g., plumbing then insulation)\n",
    "- Which non-essential tasks are NOT on the critical path\n",
    "\n",
    "## Step 4: Make time estimates\n",
    "After determining tasks and dependencies, consult key stakeholders to get accurate time estimates for each task. This is a crucial step in determining your critical path. If your time estimates are significantly off, it may cause the length of your critical path to change. Time estimates can be reviewed and updated throughout the project, as necessary. \n",
    "\n",
    "## Step 5: Find the critical path \n",
    "Now that you have your estimated durations for each task, add that information to your network diagram:\n",
    "\n",
    "If you add up the durations for all of your “essential” tasks and calculate the longest possible path, you can determine your critical path. In your calculation, only include the tasks that, if they go unfinished, will impact the project’s finish date. In this example, if the “non-essential” tasks—like landscaping and driveway pavement—are not completed, the house structure completion date will not be impacted. \n",
    "\n",
    "You can also calculate the critical path using two common approaches: the forward pass and the backward pass. These techniques are useful if you are asked to identify the earliest and latest start dates (the earliest and latest dates on which you can begin working on a task) or the slack (the amount of time that task can be delayed past its earliest start date without delaying the project).\n",
    "\n",
    "1. The forward pass refers to when you start at the beginning of your project task list and add up the duration of the tasks on the critical path to the end of your project. When using this approach, start with the first task you have identified that needs to be completed before anything else can start. \n",
    "\n",
    "2. The backward pass is the opposite—start with the final task or milestone and move backwards through your schedule to determine the shortest path to completion. When there is a hard deadline, working backwards can help you determine which tasks are actually critical. You may be able to cut some tasks—or complete them later—in order to meet your deadline.  "
   ]
  },
  {
   "cell_type": "markdown",
   "id": "794d2370",
   "metadata": {},
   "source": [
    "# Getting accurate time estimates from your team\n",
    "\n",
    "## Softskills for accurate estimation\n",
    "\n",
    "- Soft Skills: Personal characteristics that help people work effectively with others. \n",
    "1. Asking the right questions\n",
    "- Open-ended question: A question that cannot be answered with a \"yes\" or \"no\"\n",
    "2. Negotiating effectively\n",
    "3. Practicing empathy\n",
    "- Empathy: A person's ability to relate to the thoughts and feeling of others. "
   ]
  }
 ],
 "metadata": {
  "language_info": {
   "name": "python"
  }
 },
 "nbformat": 4,
 "nbformat_minor": 5
}
