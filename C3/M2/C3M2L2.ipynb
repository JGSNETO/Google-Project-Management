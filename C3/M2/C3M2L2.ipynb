{
 "cells": [
  {
   "cell_type": "markdown",
   "id": "a29563b7",
   "metadata": {},
   "source": [
    "# Using estimation to set project timelines\n",
    "\n",
    "## Making realistic time estimates\n",
    "\n",
    "- Time estimation: A prediction of the total amound of time required to complete a task. \n",
    "- Effort estimation: A prediction of the amount and difficulty of active work required to complete a task. \n",
    "- Unrealistic effor estimates happen when you have understimated the amount of time it will take to complete a task. \n",
    "- Too much optimism can lead you to overlook potential risks that could set your plans behind schedule. \n",
    "- Your teammates will have the most realistic understanding of the amount of work required to complete a task, and will be able to provide you with the best estimate. \n",
    "- Sub-tasks: Smaller tasks that are required to complete a larger task. \n",
    "- Asking the teammate assigned to the task for their estimate is likely to yield a more accurate estimation. \n",
    "- Buffer: Extra time added to the end of a task of project to account for unexpected slowdowns or delays in work progress. \n",
    "- Types of scheduling buffers:\n",
    "1. Task buffers: Extra time tacked on to a specific task. It should be used primarily for tasks that are out of the project team's control. It should be used more sparingly for tasks within the team's control. Adding a buffer to every project task could lengthen your project schedule unnecessarily. \n",
    "2. Project Buffer: Extra time tacked onto the end of a project. "
   ]
  }
 ],
 "metadata": {
  "language_info": {
   "name": "python"
  }
 },
 "nbformat": 4,
 "nbformat_minor": 5
}
