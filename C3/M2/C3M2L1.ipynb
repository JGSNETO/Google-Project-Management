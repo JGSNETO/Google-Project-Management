{
 "cells": [
  {
   "cell_type": "markdown",
   "id": "e6dfb12f",
   "metadata": {},
   "source": [
    "# Getting Started with a project plan\n",
    "\n",
    "## Components of a project plan\n",
    "\n",
    "- Task: Tasks are activities that need to be accomplished within a set period of time. They're assigned to different members of the team according to their roles and skills. \n",
    "- Milestones: Important points within the schedule that indicate progress. They usually signify the completion of a deliverable or phase of the project.\n",
    "- People:  It's important that each team member understands their role and the tasks they're responsible for completing.\n",
    "- Documentation\n",
    "- Time"
   ]
  },
  {
   "cell_type": "markdown",
   "id": "92e83949",
   "metadata": {},
   "source": [
    "# Putting together the pieces of a project plan\n",
    "Every project plan is a living artifact that serves as your team’s roadmap throughout the project. We have covered some common elements of project plans, including tasks, milestones, people, documentation, and time. Let’s look at how these elements intersect with other important components to create a comprehensive plan for your project. \n",
    "\n",
    "## How project plan components are connected\n",
    "You have learned that at the center of the project plan is the project schedule, which helps you estimate the amount of time it will take to complete the project and provides the team with a way to track the project’s progress against your goals. In addition to the schedule, you should also include the following components in your project plan: \n",
    "\n",
    "- Scope and goals\n",
    "- Work Breakdown Structure (WBS)\n",
    "- Budget \n",
    "- Management plans\n",
    "\n",
    "## Project scope and goals\n",
    "Both the project scope and goals will be captured initially in your project charter, the document that clearly defines the key details of your project. You can link your project charter in your project plan. Having details about the project’s scope and goals easily accessible can help remind your team of the objectives they are trying to accomplish and if anything is asked of them that goes beyond what was initially agreed upon in order to achieve those objectives. \n",
    "\n",
    "## Work Breakdown Structure (WBS)\n",
    "As a reminder, a Work Breakdown Structure is a tool that sorts the milestones and tasks of a project in a hierarchy, in the order they need to be completed.  The WBS is key to your project plan since it breaks the work down into more manageable pieces. In your project plan, the tasks should be visible in one place with clear descriptions, owners, and due dates. This will allow you and your team to understand who is responsible for which tasks and when each task is supposed to be completed. Your project plan should also contain detailed milestones and statuses related to these tasks, which will help you and your team members visualize project progress. \n",
    "\n",
    "In addition to the WBS, further documentation—such as a RACI chart—will help define roles and responsibilities and would be useful to add to your project plan. Keeping this documentation stored or linked in one place is a best practice for transparency and effective communication.\n",
    "\n",
    "## Budget\n",
    "Throughout the life cycle of your project, the budget will need to be managed and monitored. The project budget is often linked to the project plan because it is heavily dependent on key elements of the project. Linking these components allows for smoother management and visibility. \n",
    "\n",
    "Depending on the size of your project and your organization, you may not be the primary person responsible for managing the project budget. For instance, if your project is at a large organization and the funds are managed by another department, you may not have as much autonomy or insight into all of the budget elements. As a result, you may not be able to monitor the budget closely. If someone in another department is managing the budget, make sure to have regular check-ins with them to ensure that you are aware of how you are tracking.\n",
    "\n",
    "## Management plans\n",
    "Management plans—such as the change management plan, risk management plan, and communication plan—are all integral to keeping a project organized and on track and should be linked in your project plan. These plans will be discussed in detail in the coming lessons of this course. \n",
    "\n",
    "## Key takeaway\n",
    "Project scope and goals, the Work Breakdown Structure (WBS), the budget, and management plans are all important components of your project plan. They help define how basic project plan elements—including tasks, milestones, people, documentation, and time—will be structured and utilized in your project. However, no two project plans will be the same. At Google, we work with a variety of different tools and templates to create and manage project plans. It is important to know your end goals and what is essential to you and your team in order to pull the relevant pieces of the project together. "
   ]
  },
  {
   "cell_type": "markdown",
   "id": "bbe8d37d",
   "metadata": {},
   "source": []
  }
 ],
 "metadata": {
  "language_info": {
   "name": "python"
  }
 },
 "nbformat": 4,
 "nbformat_minor": 5
}
