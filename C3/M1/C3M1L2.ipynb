{
 "cells": [
  {
   "cell_type": "markdown",
   "id": "80a95530",
   "metadata": {},
   "source": [
    "# Understanding the planning phase components\n",
    "\n",
    "- During the initiation phase, the project manager is gathering all of the necessary preliminary information needed to get stakeholder approval and plan the project.\n",
    "\n",
    "## Key Actions\n",
    "\n",
    "- Project manager gets assigned;\n",
    "- Project goals, scope, and deliverables have to be approved;\n",
    "- Team members get assigned;\n",
    "- Sign of on your project charter.\n",
    "\n",
    "## Planning benefits\n",
    "\n",
    "- Understand the work needed to achieve your goals. \n",
    "- Coordinate efforts and timelines with other teams, contractors and vendors;\n",
    "- Indentify and prepare for risks;\n",
    "- Get \"Buy-in\" from key members of the project team;\n",
    "- Demonstrates to stakeholders that the team is taking care to start the project with a detailed plan. \n",
    "\n",
    "# Lauching the planning phase\n",
    "\n",
    "1. Schedule\n",
    "- The project timeline, which includes the start date, the end date, and dates for events in between.\n",
    "\n",
    "2. Budget\n",
    "- The budget accounts for the total cost to complete the project.\n",
    "\n",
    "3. Risk management plan\n",
    "- Searching for possible problems related to the project and planning ahead to mitigate there risks. \n",
    "\n",
    "# Project Kick-off meeting\n",
    "\n",
    "- The "
   ]
  },
  {
   "cell_type": "markdown",
   "id": "37c0167f",
   "metadata": {},
   "source": [
    "# Tips for leading a successful kick-off meeting\n",
    "In the previous video, you learned what a project kick-off meeting is and what it involves. As a reminder, a kick-off meeting is the first meeting among the project team, stakeholders, and the project sponsor at the start of a new project or new project phase. The purpose of a kick-off meeting is to ground everyone in a shared vision, ensure they understand the project’s goals and scope, and make sure that they are all on the same page about their roles and responsibilities on the project. The kick-off meeting is critical to a project’s overall success. It gets the team together to align on goals and visions for the project and sets the project up for success.\n",
    "\n",
    "This reading will provide you with some tips for running an effective kick-off meeting. \n",
    "\n",
    "## Kick-off meeting best practices\n",
    "- Set the right time. Choose a meeting time that works for everyone. Be mindful of time zone differences. \n",
    "\n",
    "- Set the right length. Choose an appropriate meeting length—no more than one hour. You don’t want to waste people’s time, but you also don’t want to run out of time. Kick-off meetings work best when you first share key information and then spend any additional time on questions and team building.\n",
    "\n",
    "- Invite the right people. Be strategic about including the appropriate people. The goal is to invite attendees who play a role in the development and execution of the project, such as all team members, stakeholders, and the project sponsor. You don’t want to leave anyone out, but you also don’t want to invite people who shouldn’t be there.\n",
    "\n",
    "- Designate a notetaker. The discussion that takes place during the meeting is important. It is critical that you document any feedback, changes, or questions asked by attendees. If you are leading the meeting, designate someone else to take notes before the meeting starts. You can also use tools like Chorus Notetaker, Google Keep, Google Docs, or Microsoft OneNote.  \n",
    "\n",
    "- Set the agenda. To recap what we discussed in the video, a kick-off meeting agenda should generally include: introductions, the project background and purpose, project goals and scope, roles and responsibilities, the collaboration process and project tools, what comes next (expectations and action items), and time for questions and discussion.\n",
    "\n",
    "- Share the agenda. Prior to the meeting, share the agenda with attendees via email and identify speakers for each topic. By sending the agenda in advance, everyone will have an idea of what to expect, time to prepare for anything they may need to present or discuss, and time to generate questions or ideas.\n",
    "\n",
    "- Stick to the agenda. During meetings, discussions can sometimes go off topic or take longer than expected. As a project manager, it is your job to keep the meeting on track by redirecting discussions to the items on the agenda. \n",
    "\n",
    "- Follow up after the meeting. After the meeting, make sure to send out a meeting summary featuring the meeting notes and any action items. "
   ]
  }
 ],
 "metadata": {
  "language_info": {
   "name": "python"
  }
 },
 "nbformat": 4,
 "nbformat_minor": 5
}
