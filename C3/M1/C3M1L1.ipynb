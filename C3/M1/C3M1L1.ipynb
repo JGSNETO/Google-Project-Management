{
 "cells": [
  {
   "cell_type": "markdown",
   "id": "5625a616",
   "metadata": {},
   "source": [
    "# Getting started\n",
    "\n",
    "- Kicking off the planning phase;\n",
    "- Setting and reaching milestones and udentifying tasks;\n",
    "- budegeting process;\n",
    "- Identifying and planning for risks;\n",
    "- Documentation\n"
   ]
  }
 ],
 "metadata": {
  "language_info": {
   "name": "python"
  }
 },
 "nbformat": 4,
 "nbformat_minor": 5
}
