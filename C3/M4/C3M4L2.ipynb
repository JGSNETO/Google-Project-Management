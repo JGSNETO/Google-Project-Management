{
 "cells": [
  {
   "cell_type": "markdown",
   "id": "d57d4da1",
   "metadata": {},
   "source": [
    "# Identifying and assessing risks\n",
    "\n",
    "## Tools to help identify risks\n",
    "\n",
    "- Brainstrom.\n",
    "- Cause-and-effect diagram: A diagram that shows the possible causes of an event or risk. \n",
    "- Scope creep: Changes, growth, and uncontrolled factors that affect a project´s scope at any point after the project begins. \n",
    "- Risk register: A table or chart that contains a list of risks. \n",
    "- Risk assessment: The stage of risk management where qualities of a risk are estimated or measured. \n",
    "- Probability and impact matrix: A tool used to prioritize project risk\n",
    "- Impact: The damage a risk could cause, if it occurs. Impact is determined on a scale of high, medium, and low. \n",
    "- Probability: The likelihood that a risk will occur. \n",
    "- Inherent risk: THe measure of a risk, calculated by its probability and impact. \n",
    "- Risk appetite: The willingness of an organization to accept the possible outcomes of a risk. "
   ]
  },
  {
   "cell_type": "markdown",
   "id": "e3fe5b88",
   "metadata": {},
   "source": [
    "# How to create a fishbone diagram\n",
    "Previously, you learned about some tools to help you identify risks. In this reading, we will dive deeper into how to create and use one of those tools: the fishbone diagram.\n",
    "\n",
    "Fishbone diagrams—also known as Ishikawa diagrams or cause-and-effect diagrams—were developed by Japanese organizational theorist Kaoru Ishikawa in the 1960s to measure quality control processes in the shipbuilding industry. Fishbone diagrams are a visual way to look at cause and effect. They are called fishbone diagrams because they have a similar shape to a fish skeleton. \n",
    "\n",
    "Fishbone diagrams help the team to brainstorm potential causes of a problem or risk and sort them into useful categories. These categories show the areas that you should focus on to mitigate that risk. Fishbone diagrams are also very helpful in finding the root cause of a problem. A root cause is the initial cause of a situation that introduces a problem or risk. The purpose of using fishbone diagrams in risk management is to identify the root cause of a potential problem for a project or program.  \n",
    "\n",
    "## Case study: Using a fishbone diagram to identify causes of risks  \n",
    "\n",
    "Miguel is a project manager at Office Supply Inc. He is in the planning phase for an upcoming summer promotion project, which will include free delivery of products. Unfortunately, in the past, the company has had trouble delivering its products to downtown office buildings on time. Miguel builds a fishbone diagram to see if he can identify some of the possible causes of this problem in order to mitigate this risk on the current project. He follows these steps to build his diagram:\n",
    "\n",
    "- Step 1) Define the problem \n",
    "First, Miguel clearly defines what the problem entails. In this case, Miguel states the problem as “trouble delivering products to downtown office buildings on time.” Then he adds the problem to the head of his fishbone diagram. \n",
    "\n",
    "- Step 2) Identify the categories \n",
    "In this step, Miguel thinks of the types of categories that could be causing the problem. These categories will change depending on the type of problem or industry. Some common examples of categories include “people,” “technology,” “materials,” “transportation,” “money,” “time,” “environment,” and “procedures.” \n",
    "\n",
    "For the delivery problem at Office Supply Inc., Miguel lists the categories “people,” “technology,” “materials,” “transportation,” and “environment” at the top and bottom of the lists to the left of the problem in his fishbone diagram. \n",
    "\n",
    "- Step 3) Brainstorm the causes \n",
    "Now that Miguel has identified possible categories that relate to the risk, he brainstorms areas of concern within each category. He reaches out to his team for help in identifying these possible causes. Then, Miguel fills in the lists with some of the causes that could be related to each category.\n",
    "\n",
    "Pro tip: Brainstorming should be a judgment-free zone. Encourage the flow of information related to the categories and try not to rule things out. When dealing with human factors, steer clear of naming individuals; instead, focus solely on behaviors.\n",
    "\n",
    "- Step 4) Analyze the causes\n",
    "Now that Miguel has discovered several possible causes for the delivery problems to downtown offices, he analyzes those causes. He needs to identify the root cause of the existing problem so he can figure out how to mitigate it for the current project.\n",
    "\n",
    "Note that one cause of a problem isn’t necessarily the root cause. For example, Miguel has identified that a lack of forklifts is a problem. Having more forklifts would allow the company to get the products on and off of the trucks more quickly. However, after calculating the amount of time it takes to unload and load the products, Miguel realizes that adding more forklifts won’t significantly reduce the amount of time to get the products from the warehouse to downtown offices. Therefore, this is one cause of the problem, but it is not the root cause.\n",
    "\n",
    "On the other hand, Miguel has noticed that there is no set schedule for sending out deliveries. Since the problem only exists in the city instead of in the suburban areas, he realizes that traffic must also be playing a role in the late deliveries. Therefore, changing the schedule so that the delivery times are before the city’s rush hour may help fix the problem.       \n",
    "\n",
    "Pro tip: Fishbone diagrams are tools that can be useful during any phase of the project. When you use them in risk planning, you are trying to identify the possible causes of a problem that may or may not occur. When you use them in the execution phase, you are trying to find the root cause of an issue that has already occurred. \n",
    "\n",
    "# Key takeaway\n",
    "Identifying risks and measuring their potential impact on a project can be a complex task. You can help visualize these issues by creating fishbone diagrams. To recap, the steps to create a fishbone diagram are:\n",
    "\n",
    "- Define the problem\n",
    "- Identify the categories\n",
    "- Brainstorm the causes\n",
    "- Analyze the causes\n",
    "\n",
    "Once you’ve developed a fishbone diagram to help find a problem’s root cause and measure its potential impact on the project, you can then move on to determining how to mitigate the risk. "
   ]
  }
 ],
 "metadata": {
  "language_info": {
   "name": "python"
  }
 },
 "nbformat": 4,
 "nbformat_minor": 5
}
