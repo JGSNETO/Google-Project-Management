{
 "cells": [
  {
   "cell_type": "markdown",
   "id": "989ec59e",
   "metadata": {},
   "source": [
    "# Understanding risk management \n",
    "\n",
    "## The importance of risk management \n",
    "\n",
    "- Risk: A potential event which can occur and can impact your project. \n",
    "- Issue: A known or real problem that can affect the ability to complete a task. \n",
    "- Risk management: The process of identifying and evaluating potential risks and issues that could impact a project. \n",
    "\n",
    "1. Risk management provides an understanding of:\n",
    "a. What could go wrong\n",
    "b. Who you will ned to consult\n",
    "c. How it could be mitigated\n",
    "\n",
    "- If you dont plan ahead, you may put your project at risk of not meeting its project goal, its timelines, or its success criteria. \n",
    "- By failing to plan for risk, you also fail to think through the many different ways that your project could pivot and still meet its goals, even if an issue does arise. \n",
    "- Risks can affect projects in a variety of ways that are difficult to foresee. \n",
    "- When issues arise, it is important to keep calm, figure out the root cause of the problem, and come up with a solution. "
   ]
  },
  {
   "cell_type": "markdown",
   "id": "cca1f306",
   "metadata": {},
   "source": [
    "# Phases of risk management\n",
    "\n",
    "In a previous video, you learned that risk management is the process of identifying and evaluating potential risks and issues that could impact your project. Risk management is an ongoing practice throughout the life cycle of your project. It typically involves some variation of these five steps:\n",
    "\n",
    "- Identify the risk.\n",
    "- Analyze the risk.\n",
    "- Evaluate the risk.\n",
    "- Treat the risk. \n",
    "- Monitor and control the risk.\n",
    "\n",
    "Let’s break these down:\n",
    "\n",
    "1. Identify the risk. The first phase of the risk management process is to identify and define potential project risks with your team. After all, you can only manage risks if you know what they are. \n",
    "\n",
    "2. Analyze the risk. After identifying the risks, determine their likelihood and potential impact to your project. Serious risks with a high probability of occurring pose the greatest threat.\n",
    "\n",
    "3. Evaluate the risk. Next, use the results of your risk analysis to determine which risks to prioritize.\n",
    "\n",
    "4. Treat the risk. During this phase, make a plan for how to treat and manage each risk. You might choose to ignore minor risks, but serious risks need detailed mitigation plans.\n",
    "\n",
    "5. Monitor and control the risk. Finally, assign team members to monitor, track, and mitigate risks if the need arises.\n",
    "\n",
    "In the upcoming videos and activities, you will learn about each of these phases in more detail and use tools and templates to navigate the risk management process. \n",
    "\n",
    "# Uncover opportunities using risk management\n",
    "When you think about risks, it is likely that you automatically think of potential negative events. But when identifying risks, it is important to also consider the good things that could happen, which are considered opportunities. An opportunity is a potential positive outcome of a risk. It is important to recognize opportunities and to capitalize on them as they appear so you can reach your project goals faster, more cheaply, or with less effort. Some examples of opportunities include: \n",
    "\n",
    "- Completing a milestone ahead of schedule\n",
    "- Discounted materials \n",
    "- Availability of additional resources (people, investments, equipment) \n",
    "\n",
    "## How to recognize an opportunity\n",
    "An opportunity is a potential positive outcome that may bring additional value to a project. You can use the same tools and techniques that you use in risk management—identify, analyze, evaluate, treat, and control—to add potential opportunities to your risk management plan. You need to know what to do if things go wrong, but you should also make plans to seize opportunities. By using techniques such as brainstorming and drawing on project history or prior experience, you can identify potential opportunities and outline how you will take advantage of them if they occur.\n",
    "\n",
    "As a project manager, you should always be on the lookout for potential opportunities when developing your risk management plan. Review the following article for further information on using risk management strategies to identify and take advantage of opportunities that may occur during your projects: \n",
    "The Risk Management Process in Project Management"
   ]
  }
 ],
 "metadata": {
  "language_info": {
   "name": "python"
  }
 },
 "nbformat": 4,
 "nbformat_minor": 5
}
