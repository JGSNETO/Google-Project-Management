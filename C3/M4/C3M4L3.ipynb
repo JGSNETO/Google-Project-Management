{
 "cells": [
  {
   "cell_type": "markdown",
   "id": "adca5170",
   "metadata": {},
   "source": [
    "# Mitigation and communicating risks\n",
    "\n",
    "## Risk mitigation strategies\n",
    "\n",
    "- Common ways to deal with risk\n",
    "\n",
    "a. Avoid the risk: Avoid the risk by taking action that will eliminate the possibility of risk. \n",
    "b. Accept the risk: Accept the risk by accepting the possibility that this risk can happen. \n",
    "c. Reduce or control the risk: Reduce or control the risk by determining potential options to address it. \n",
    "- Decition tree: A flowchart that helps visualize the wider impact of a decision on the rest of a project. \n",
    "d. Transfer the risk: Transfer the risk by shifiting the risk from one party to another. \n",
    "\n",
    "\n",
    "## Build a risk management plan\n",
    "\n",
    "- Risk management plan: Living document that contains information regarding high level risks and the mitigation plans for those risks. The risk management plan should be updated regurlarly to add newly-identified risks, remove risks that are no longer relevant, and include any changes in the mitigation plan. \n",
    "\n",
    "## Communicating risks to stakeholders\n",
    "\n",
    "- If you don't tell your stakeholders about important risks, they may be less equipped to help you if an issue arises. \n",
    "- Failing to communicate risks to stakeholders can erode their trust in you as the leader of the project. \n",
    "- Communicate early and often with stakeholders about medium-and-high level risks. \n",
    "\n",
    "### How to communicate risks to stakeholders\n",
    "\n",
    "- Depends on the severity of the risk. \n",
    "- The serious nature of high-level risks requires a thorough and direct level of communication. "
   ]
  }
 ],
 "metadata": {
  "language_info": {
   "name": "python"
  }
 },
 "nbformat": 4,
 "nbformat_minor": 5
}
