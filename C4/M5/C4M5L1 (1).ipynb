{
 "cells": [
  {
   "cell_type": "markdown",
   "id": "b019ddde",
   "metadata": {},
   "source": [
    "# Communication tools and techniques \n",
    "\n",
    "## Communicating in different ways\n",
    "\n",
    "### Project document responsibilities \n",
    "- How documents get used\n",
    "- Who has access to documents\n",
    "- How often documents get updated\n",
    "- You will need to communicate certain information to your team multiple times and in various ways. \n",
    "\n"
   ]
  },
  {
   "cell_type": "markdown",
   "id": "b3fad92d",
   "metadata": {},
   "source": [
    "# Principles of effective email writing\n",
    "\n",
    "Email has long been the primary method of communication for many people in business, yet messages are easy to misunderstand or ignore. In this reading, we will discuss four principles of effective email writing that will help your emails to stand out, be remembered, and elicit the response you need. These principles are:\n",
    "\n",
    "- State what you want clearly.\n",
    "- Keep the content short and concise.\n",
    "- Structure your writing.\n",
    "- Check grammar, punctuation, and spelling.\n",
    "\n",
    "## Principles of effective email writing\n",
    "1. State what you want clearly\n",
    "When you set out to compose an email, it is because there is something that you want from your reader. You might want to receive a simple answer, to persuade someone of something, or to arrange a meeting. Before composing an email, think about what you want, when you need what you want, and the best way to get what you want when you want it. \n",
    "\n",
    "Here are some tips on how to clearly state what you want in your email:\n",
    "\n",
    "- Include your request in the subject line of your email.\n",
    "- State your request within the first two paragraphs of your email message.\n",
    "- Indicate the specific call-to-action associated with your request (for example, reply, review, RSVP).\n",
    "- Write clear, concise sentences when providing details.\n",
    "- Define terms. Avoid using acronyms and terminology that users may not know. Provide additional information as necessary to avoid misunderstanding. \n",
    "\n",
    "2. Keep the content concise\n",
    "Make your words work for you. Remove any writing that doesn’t help to define what you want or contribute to your reader's needs.\n",
    "\n",
    "- Summarize the content you want to convey, and remove anything in your email that doesn’t contribute to your goal.\n",
    "- Aim to write “question-less” and “self-standing” emails. This means that the message contains enough information to stand on its own. The reader shouldn’t have any questions about what you want and when you want it.\n",
    "- Know your audience. Some people—such as executives and other busy leadership—may not want to read emails of more than a few sentences or click on external links for further information. Try to tailor your emails accordingly.\n",
    "\n",
    "3. Structure your writing\n",
    "Structure has to do with the visual flow, or aesthetics, of your email. A well-structured email conveys critical information to the reader quickly and allows them to scan the explanatory text—or ignore it altogether. Here are some tips for effectively structuring your email:\n",
    "\n",
    "- Use bullets. Bullets break up the visual flow. If you have more than one of something, consider using bullets. Write strong action verbs at the start of each bullet.\n",
    "- Use labels. Labels help guide the reader to what information is most important.\n",
    "- Add hyperlinks. Hyperlinks allow readers to directly access additional information, rather than adding lengthy details to your email.\n",
    "- Write a strong topic sentence. Place the main idea of the paragraph in the topic sentence. \n",
    "\n",
    "4. Check grammar, punctuation, and spelling\n",
    "Grammar, punctuation, and spelling are critical. Turning grammar and spelling suggestions on in your email application can help you quickly identify errors. Be sure to correct any errors before sending off. "
   ]
  },
  {
   "cell_type": "markdown",
   "id": "9f55bc9e",
   "metadata": {},
   "source": [
    "## Common communication tools\n",
    "\n",
    "- *Email best practices*:\n",
    "1. Carefull select who you are sending emails to and why.\n",
    "2. Make sure the subject field clearly previews what the email is about.\n",
    "3. Keep messages short and on topic\n",
    "4. Attach or link large amounts of information separately \n",
    "5. Clearly state actions items\n",
    "6. Use correct grammar and spelling\n",
    "7. Write in an appropiate tone\n",
    "8. Be friendly, motivating, clear and specific\n",
    "\n"
   ]
  }
 ],
 "metadata": {
  "language_info": {
   "name": "python"
  }
 },
 "nbformat": 4,
 "nbformat_minor": 5
}
