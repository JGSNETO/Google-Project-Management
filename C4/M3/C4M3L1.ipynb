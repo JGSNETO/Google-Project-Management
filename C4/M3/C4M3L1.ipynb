{
 "cells": [
  {
   "cell_type": "markdown",
   "id": "7e7cab36",
   "metadata": {},
   "source": [
    "# Gathering data for a project\n",
    "\n",
    "## The value of data\n",
    "\n",
    "- *Data*: A collection of facts or information.\n",
    "- Benefits of using data:\n",
    "a. Make better decisions\n",
    "b. Solve problems\n",
    "c. Understand performance\n",
    "d. Improve processes\n",
    "e. Understand your users\n",
    "\n",
    "## Coomon types of project data\n",
    "\n",
    "- *Metric*: A quantifiable measurement that is used to track and assess a business objective. \n",
    "- Types of project metrics:\n",
    "a. Productivity metrics: Metrics that allow you to track the effectiveness and efficiency of your project\n",
    "    - Milestones: An important point within the project schedule that indicates progress and usually signifies the completion of a deliverable or phase of the project.\n",
    "    - Tasks: An activity that needs to be accomplished within a set period of time.\n",
    "    - Projections: How you predict an outcome based on the information you have now.\n",
    "    - Duration: The total time it takes to complete a project from start to finish. \n",
    "b. Quality metrics: Metrics that relate to achieving acceptable outcomes.\n",
    "    - Number of changes\n",
    "    - Issue\n",
    "    - Cost variances\n",
    "\n",
    "- *Changes*: Metrics that show inconsistencies from the initial requirements of the project.\n",
    "- *Change log*: A record of all notable changes on a project.\n",
    "- *Issue*: A known and real problem that may affect the ability to complete a task. \n",
    "- *Cost variance*: The difference between the actual cost and the budgeted cost. "
   ]
  }
 ],
 "metadata": {
  "language_info": {
   "name": "python"
  }
 },
 "nbformat": 4,
 "nbformat_minor": 5
}
