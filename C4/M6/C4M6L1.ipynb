{
 "cells": [
  {
   "cell_type": "markdown",
   "id": "ee93f026",
   "metadata": {},
   "source": [
    "# Understanting project closure\n",
    "\n",
    "## The importance of project closure\n",
    "\n",
    "- *Project closing*: The process perfomed to formally complete the project, the current phase, and contractual obligations. \n",
    "- Assure all work is done. \n",
    "- Agreed upon project management processes are executed.\n",
    "- Formal recognition and agreement that the project is done by key stakeholders. \n",
    "- The *never-ending project* exists when the project deliverables and tasks cannot be completed. \n",
    "- The *abandoned project* exists when inadequate handoff or transitions on the prject deliverables occurs. "
   ]
  }
 ],
 "metadata": {
  "language_info": {
   "name": "python"
  }
 },
 "nbformat": 4,
 "nbformat_minor": 5
}
