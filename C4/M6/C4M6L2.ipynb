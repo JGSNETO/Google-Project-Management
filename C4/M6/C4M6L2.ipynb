{
 "cells": [
  {
   "cell_type": "markdown",
   "id": "aa8de2e7",
   "metadata": {},
   "source": [
    "# The steps of the closing process\n",
    "\n",
    "## The closing process for clients and stakeholders \n",
    "\n",
    "- A small, closing process at the end of each milestone, or a formal, larger comprehensive closing phase at the very end only. \n",
    "- Steps to conducting a closing process after each phase or milestone:\n",
    "1. Refer to prior documentation: Statement of Work(SoW), Request for proposal(RFP), Risk register, RACI chart.\n",
    "2. Put together closing documentation. \n",
    "3. Conduct administrative closure of the procurement process. \n",
    "4. Make sure all stakeholders are aware that a phase, or project, is ending. \n",
    "5. Execute necessary follow-up work. \n",
    "\n",
    "- Steps to conducting a closing process at the end of your project. \n",
    "1. Provide the necessary training, tools, documentation and capability to use your product. \n",
    "2. Ensure that the project has satisfies its goals and desired outcomes. \n",
    "3. Document acceptance from all stakeholders. \n",
    "4. Review all contracts and documentation. \n",
    "5. Conduct a formal retrospective. \n",
    "6. Disband and thank the project team. \n",
    "\n",
    "- *Impact reporting*: Presentation that is given at the end of a project for key stakeholders. "
   ]
  }
 ],
 "metadata": {
  "language_info": {
   "name": "python"
  }
 },
 "nbformat": 4,
 "nbformat_minor": 5
}
