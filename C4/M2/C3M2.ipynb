{
 "cells": [
  {
   "cell_type": "markdown",
   "id": "e6dfb12f",
   "metadata": {},
   "source": [
    "# Getting Started with a project plan\n",
    "\n",
    "## Components of a project plan\n",
    "\n",
    "- Task: Tasks are activities that need to be accomplished within a set period of time. They're assigned to different members of the team according to their roles and skills. \n",
    "- Milestones: Important points within the schedule that indicate progress. They usually signify the completion of a deliverable or phase of the project.\n",
    "- People:  It's important that each team member understands their role and the tasks they're responsible for completing.\n",
    "- Documentation\n",
    "- Time"
   ]
  }
 ],
 "metadata": {
  "language_info": {
   "name": "python"
  }
 },
 "nbformat": 4,
 "nbformat_minor": 5
}
