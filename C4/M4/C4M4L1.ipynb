{
 "cells": [
  {
   "cell_type": "markdown",
   "id": "e7fca173",
   "metadata": {},
   "source": [
    "# Cultivating effective teams\n",
    "\n",
    "## Introduction: Leadership and influencing skills\n",
    "\n",
    "## The necessity of project teamwork\n",
    "\n",
    "- *Great project managers*: \n",
    "a. Support people to do their best work\n",
    "b. Enable people to build things they are proud of\n",
    "\n",
    "- *Team*: A group of people who plan, solve problems, make decisions, and review progress in service of a specific project or objective. \n",
    "- *Work groups*: People in an organization who work toward a common goal. Work groups are more likely to be coordinated, controlled, or assigned by a single person or entity. \n",
    "- *Teamwork*: An effective, collaborative way of working in which each person is committed to an heading towards a shared goal. \n",
    "\n",
    "- *Why team work is important*:\n",
    "a. Foster creativity\n",
    "b. Encourages accountability\n",
    "c. Help to gets things done \n",
    "\n",
    "## The factors that impact team effectiveness \n",
    "\n",
    "- *Five factors that impact team effectiveness*:\n",
    "1. Phychological safety: An individual's perception of the consequences of taking an interpersonal risk. \n",
    "2. Dependability: team members are reliable and complete their work on time. \n",
    "3. Structure and clarity: An individual's understanding of job expectations, knowledge of how to meet those expectations, and the consequences of their performance. \n",
    "4. Meaning: Finding a sense of purpose either in the work itself or in the results of that work. \n",
    "5. Impact: The belief that the result of one's work matters and creates change. "
   ]
  },
  {
   "cell_type": "markdown",
   "id": "25e7113d",
   "metadata": {},
   "source": [
    "\n"
   ]
  }
 ],
 "metadata": {
  "language_info": {
   "name": "python"
  }
 },
 "nbformat": 4,
 "nbformat_minor": 5
}
