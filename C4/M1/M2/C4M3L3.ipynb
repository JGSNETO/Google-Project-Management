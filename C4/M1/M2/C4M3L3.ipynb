{
 "cells": [
  {
   "cell_type": "markdown",
   "id": "3214f5df",
   "metadata": {},
   "source": [
    "# Presenting and visualizing data\n",
    "\n",
    "## Presenting data to tell a project's story\n",
    "\n",
    "- *Storytelling*: The process of turning facts into narrative to communicate something to your audience. \n",
    "1. Define your audience\n",
    "- What would my audience like to know about the project?\n",
    "- What are their most urgent concerns ?\n",
    "- Which key data points influence the story and project outcome ?\n",
    "2. Collect the data\n",
    "3. Filter and analyze the data\n",
    "4. Choose a visual representation\n",
    "- Visualization are a great way to help people remember the information you are presenting and are an essential piece of storytelling. \n",
    "5. Shape the store\n",
    "6. Gather your feedback\n",
    "\n",
    "## Data visualization tools\n",
    " \n",
    "- *Data visualization*: Is the grapical representation of information to facilitate understanding. \n",
    "- Filter information by focusing the audience on the most important data points and insights. \n",
    "- Condense long ideas and facts into a single image or representation. \n",
    "- Make sense of the information being presented. "
   ]
  }
 ],
 "metadata": {
  "language_info": {
   "name": "python"
  }
 },
 "nbformat": 4,
 "nbformat_minor": 5
}
