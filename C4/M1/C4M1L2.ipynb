{
 "cells": [
  {
   "cell_type": "markdown",
   "id": "e3c64b48",
   "metadata": {},
   "source": [
    "# Tracking and measuring project progress\n",
    "\n",
    "## The importance of tracking\n",
    "\n",
    "- *Tracking*: A method of following the progress of project activities.\n",
    "- *Deviation*: Anything that alters your original course of action. Deviations from the project plan can be positive or negative. \n",
    "- Transparency is essential for accurate decision-making. \n",
    "- Tracking keeps all team members and stakeholders in touch with deadlines and goals.\n",
    "- Tracking is also crucial for recognizing risks and issues that can derail your progress. \n",
    "- Tracking helps build confidence that the project is set to be delivered on time, in scope, and within budget. \n",
    "- Importance:\n",
    "a. Transparency\n",
    "b. Risk management \n",
    "c. Keeping the project on track\n",
    "\n",
    "## Common Items to track\n",
    "\n",
    "- Project schedule.\n",
    "- Status of action items, key taks and activities. \n",
    "- Progress toward milestones. \n",
    "- Cost.\n",
    "- Key decisions, changes, dependencies and risk to the project. \n",
    "\n",
    "## Different tracking methods\n",
    "\n"
   ]
  }
 ],
 "metadata": {
  "language_info": {
   "name": "python"
  }
 },
 "nbformat": 4,
 "nbformat_minor": 5
}
