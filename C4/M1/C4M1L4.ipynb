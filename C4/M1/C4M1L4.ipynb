{
 "cells": [
  {
   "cell_type": "markdown",
   "id": "aeec653d",
   "metadata": {},
   "source": [
    "# Communicating issues to stakeholders\n",
    "\n",
    "## Escalating issues\n",
    "\n",
    "- *Escalation*: The process of enlisting the help of higher level project leadership or management to remove an obstacle, clarify or reinforce priorities, and validate next steps. \n",
    "a. Acts as checks and balances. \n",
    "b. Generate speedy decision making. \n",
    "c. Reduce frustrations.\n",
    "d. Encourage participation. \n",
    "- Before starting work on a project, the project manager, the team, and the project sponsor should establish escalation standards and practices.\n",
    "- A project manager should escalate an issue at the first sign of critical problems in a project, such as:\n",
    "a. Cause a delay on a major project milestone\n",
    "b. Cause budget overruns\n",
    "c. Can result in the loss of a customer\n",
    "d. Push back the estimated project completion date\n",
    "- Trench wars occur when two peers or groups can't seem to come to an agreement, and neither party is willing to give in. \n",
    "- A bad compromise occurs when two parties settle on a so-called solution but the end product still suffers. \n",
    "\n",
    "## Communicating changes to the team\n",
    "\n",
    "- When communicating a small change that will affect an individualm it is a good idea to send an email. \n",
    "- When there is a big change within your project that impacts more than one person is likely to change the budget, deadline, or scope of the project, you will want to have a team meeting. \n",
    "- *Timeout*: Taking a moment away from the projct in order to take a breath, regroup, and adjust the game plan.\n",
    "- *Retrospective*: A meeting focused on identifying the contributing causes of an incident or pattern of incidents without blaming any individual. "
   ]
  },
  {
   "cell_type": "markdown",
   "id": "5fee5782",
   "metadata": {},
   "source": [
    "# Writing an effective escalation email\n",
    "\n",
    "In this lesson, you are learning how to communicate risks and changes to your team and stakeholders. In the previous video, you were introduced to escalation: the process of enlisting the help of higher level project leadership or management to remove an obstacle, clarify or reinforce priorities, and validate next steps.\n",
    "\n",
    "There are many ways to escalate a risk, and it is important to set escalation standards with your stakeholders before beginning work on a project. In this reading, we will focus on the escalation email, and go over best practices for writing one.\n",
    "\n",
    "## Escalation email best practices\n",
    "\n",
    "All projects—even those managed by experienced project managers—occasionally have problems. Your role as the project manager is to help resolve problems and remove barriers that prevent your team from making progress toward your goals. While many problems might be small enough to resolve within your core team, other problems—like a major change in your budget or timeline—may need to be brought to stakeholders for a final decision. Detailing these problems, their potential impact, and the support you need in a clear and direct email to your audience can be an effective communication tool.\n",
    "\n",
    "Effective escalation emails:\n",
    "\n",
    "- Maintain a friendly tone\n",
    "- State your connection to the project\n",
    "- Explain the problem\n",
    "- Explain the consequences\n",
    "- Make a request\n",
    "\n",
    "Let’s discuss these five keys to writing a strong escalation email.\n",
    "\n",
    "## Maintain a friendly tone\n",
    "When drafting an escalation email, you may feel tempted to get straight to the point, especially when dealing with a stressful and time-sensitive problem. But keep in mind that it is important to address issues with grace. Consider opening your email with a simple show of goodwill, such as “I hope you’re doing well.” When describing the issue, aim for a blameless tone. Above all, keep the email friendly and professional. After all, you are asking for the recipient’s help. Be sure to close your email by thanking the recipient for their time.\n",
    "\n",
    "## State your connection to the project\n",
    "Introduce yourself early in the email if you have less familiarity with the project stakeholders. Be sure to clearly state your name, role, and relationship to the project. This helps the reader understand why you are reaching out. Keep your introduction brief and to the point—a single sentence should suffice. If you know the person on the receiving end of the escalation email, you can simply reinforce your responsibility on the project before getting straight to the problem.\n",
    "\n",
    "## Explain the problem\n",
    "Once you greet your recipient and briefly introduce yourself, explain the issue at hand. Clearly state the problem you need to solve. Provide enough context for the reader to understand the issue, but aim to keep your message as concise as possible. Avoid long, dense paragraphs that may obscure your message and tempt the reader to skim.\n",
    "\n",
    "## Explain the consequences\n",
    "After explaining the problem, clearly outline the consequences. Describe specifically how this issue is negatively impacting the project or how it has the potential to negatively impact the project later in the project timeline. Again, keep your explanation concise and your tone friendly.\n",
    "\n",
    "## Propose a course of action and make a request\n",
    "This is the central piece of a strong escalation email. In this section, you propose a solution (or solutions) and state what you need from the recipient. A thoughtful solution accompanied by a clear request lets the recipient know how they can help and moves you toward a resolution.\n",
    "\n",
    "## Putting it all together\n",
    "Let’s see how these best practices come together to form a strong escalation email. In the scenario that prompts the email, Sayid, a project manager from a company that sells gift baskets, is having a quality control issue with one of the items in a line of holiday baskets. If the issue is not rectified soon, the product launch will have to be delayed and the company will lose money. In the annotated email example below, Sayid explains the issue to his internal stakeholders and requests a meeting with them."
   ]
  }
 ],
 "metadata": {
  "language_info": {
   "name": "python"
  }
 },
 "nbformat": 4,
 "nbformat_minor": 5
}
