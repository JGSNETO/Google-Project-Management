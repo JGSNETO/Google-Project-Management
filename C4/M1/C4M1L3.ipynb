{
 "cells": [
  {
   "cell_type": "markdown",
   "id": "30790be7",
   "metadata": {},
   "source": [
    "# Managing changes, risk and dependencies. \n",
    "\n",
    "## Why risks and changes occur\n",
    "\n",
    "- *A risk* is a potential event that might occur and could impact your project. \n",
    "- *Change* is anything that alters or impacts the tasks, structures, or processes within a project.\n",
    "\n",
    "- Type of changes:\n",
    "1.  New or changing dependencies\n",
    "2. Change priorities \n",
    "3. Capacity and people\n",
    "4. Limitations on budget or resources\n",
    "5. Scope creep\n",
    "6. Force majeure: An unforeseen circumstance that prevents someone from fulfilling the contract due to a major crisis. Force majeure is pretty uncommon. \n",
    "\n",
    "\n",
    "## identifying and tracking dependencies\n",
    "\n",
    "- *Dependencies*: The links that connect one project task to another and are often the greatest source of risk to a project. \n",
    "- *Internal dependencies*: The relationship between two tasks within the same project. \n",
    "- *External dependencies*: Tasks that are reliant on outside factors, like regulatory agecies or other projects. \n",
    "- *Mandatory dependencies*: Tasks that are legally or contractually required. \n",
    "- *Discretionary dependencies*: Tasks that could occur on their own, but the team chose to make them reliant on one another. \n",
    "- *Dependency management*: The process of managing interrelated tasks and resources within the project to ensure the overall project is completed succefully, on time, and in budget. To pursue effective dependency management, there are four important stepsthat a project manager can take:\n",
    "a. Propor identification\n",
    "b. Recording dependencies\n",
    "c. Continuous monitoring and control \n",
    "d. Efficient communication.\n",
    "- *Risk register*: A table or chart that contains your list of risks and dependencies. \n",
    "\n",
    "## Techniques to help manage risks\n",
    "\n",
    "- *Risk management*: The process of identifying potential risks and issues which could impact a project, and evaluating and applying steps to address the effects of the identified risks and issues.  \n",
    "- If your dependencies are met on time, your team is less likely to fall behind schedule. \n",
    "- *Risk exposure*: A way to measure the potential future loss resulting from a specific activity or event. \n",
    "1. *R*esolved: Consider this risk to be addressed. It is no longer a problem. \n",
    "2. *O*wned: Assign a team membet ownership of the risk and monitor the risk through to completion.\n",
    "3. *A*ccepted: Understand and accept the risk for what it is, because it can't be resolved.\n",
    "4. *M*itigated: Formulate a plan to eradicate the risk. "
   ]
  }
 ],
 "metadata": {
  "language_info": {
   "name": "python"
  }
 },
 "nbformat": 4,
 "nbformat_minor": 5
}
