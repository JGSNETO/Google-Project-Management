{
 "cells": [
  {
   "cell_type": "markdown",
   "id": "30790be7",
   "metadata": {},
   "source": [
    "# Managing changes, risk and dependencies. \n",
    "\n",
    "## Why risks and changes occur\n",
    "\n",
    "- *A risk* is a potential event that might occur and could impact your project. \n",
    "- *Change* is anything that alters or impacts the tasks, structures, or processes within a project.\n",
    "\n",
    "- Type of changes:\n",
    "1.  New or changing dependencies\n",
    "2. Change priorities \n",
    "3. Capacity and people\n",
    "4. Limitations on budget or resources\n",
    "5. Scope creep\n",
    "6. Force majeure: An unforeseen circumstance that prevents someone from fulfilling the contract due to a major crisis. Force majeure is pretty uncommon. \n"
   ]
  }
 ],
 "metadata": {
  "language_info": {
   "name": "python"
  }
 },
 "nbformat": 4,
 "nbformat_minor": 5
}
