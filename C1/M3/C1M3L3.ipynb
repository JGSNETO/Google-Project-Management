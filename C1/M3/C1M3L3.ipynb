{
 "cells": [
  {
   "cell_type": "markdown",
   "metadata": {},
   "source": [
    "# Comparing project management methodologies and approaches\n",
    "\n",
    "## Project management methodology\n",
    "- A set of guiding principles and processes for owning a project through its life cycle. \n",
    "- Linear means the previous phase or task has to be completed before the next can start. \n",
    "- Iterative means some of the phases and tasks will overlap or happen at the same time that other tasks are being worked on. "
   ]
  },
  {
   "cell_type": "markdown",
   "metadata": {},
   "source": [
    "# Overview aof Waterfall and Agile\n",
    "\n",
    "## Waterfall\n",
    "\n",
    "- Sequential execution, where for the next activity to start, the previous need to finish. \n",
    "- Phases:\n",
    "1. Initiating\n",
    "2. Planning\n",
    "3. Executing\n",
    "4. Close\n",
    "- When to use:\n",
    "1. Phases clear defined.\n",
    "2. Expenses to implement changes, once it starts.\n",
    "3. Task to complete as requirement for another to start. \n",
    "- Risk management practices. Since changes are not welcome. \n",
    "\n",
    "## Agile\n",
    "\n",
    "- Able to move quickly and easily. \n",
    "- Willing to change and adapt. \n",
    "- Done in pieces. \n",
    "- Agile project phases overlap and tasks are completed in iterations, which in Scrum are called sprints. "
   ]
  },
  {
   "cell_type": "markdown",
   "metadata": {},
   "source": [
    "# Waterfall and Agile Comparison\n",
    "\n",
    "\n",
    "| Aspect           | Waterfall | Agile |\n",
    "|-----------------|-----------|--------|\n",
    "| **Project Manager's Role** | Project manager serves as an active leader by prioritizing and assigning tasks to team members. | Scrum Master acts primarily as a facilitator, removing any barriers the team faces. Team shares more responsibility in managing their own work. |\n",
    "| **Scope** | Project deliverables and plans are well-established and documented in the early stages of initiating and planning. Changes go through a formal change request process. | Planning happens in shorter iterations and focuses on delivering value quickly. Subsequent iterations are adjusted in response to feedback or unforeseen issues. |\n",
    "| **Schedule** | Follows a mostly linear path through the initiating, planning, executing, and closing phases of the project. | Time is organized into phases called Sprints. Each Sprint has a defined duration, with a set list of deliverables planned at the start of the Sprint. |\n",
    "| **Cost** | Costs are kept under control by careful estimation up front and close monitoring throughout the life cycle of the project. | Costs and schedule could change with each iteration. |\n",
    "| **Quality** | Project manager makes plans and clearly defines criteria to measure quality at the beginning of the project. | Team solicits ongoing stakeholder input and user feedback by testing products in the field and regularly implementing improvements. |\n",
    "| **Communication** | Project manager continually communicates progress toward milestones and other key indicators to stakeholders, ensuring that the project is on track to meet the customer’s expectations. | Team is customer-focused, with consistent communication between users and the project team. |\n",
    "| **Stakeholders** | Project manager continually manages and monitors stakeholder engagement to ensure the project is on track. | Team frequently provides deliverables to stakeholders throughout the project. Progress toward milestone. |\n"
   ]
  },
  {
   "cell_type": "markdown",
   "metadata": {},
   "source": [
    "# Lean Six Sigma"
   ]
  }
 ],
 "metadata": {
  "language_info": {
   "name": "python"
  }
 },
 "nbformat": 4,
 "nbformat_minor": 2
}
