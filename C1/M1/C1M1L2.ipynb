{
 "cells": [
  {
   "cell_type": "markdown",
   "metadata": {},
   "source": [
    "# Understand the basics of project management\n",
    "\n",
    "## Project\n",
    "- An unique endeavor, and usually includes a set of unique deliverables.\n",
    "- A temporary pursuit; it has a defined beginning and end.\n",
    "- A project is a series of tasks that need to be completed to reach a desired outcome: Collaboration and careful planning\n",
    "\n",
    "## Project Management\n",
    "- The application of knowledge, skills, tools and techniques to meet the project requirements and achieve the desiered outcome. \n",
    "- Valuable to businesses because it helps ensure that a project delivers the expected outcomes. \n",
    "- Program Managers: They manage multiple projects for specific products, teams, or programs.\n",
    "\n",
    "## What does a project manager\n",
    "\n",
    "### PM Responsabilities\n",
    "- Planning and organizing.\n",
    "- Managing tasks.\n",
    "- Budgeting.\n",
    "- Controlling cost and other factors.\n",
    "- Ensure that the project outcome is adding value to the company.\n",
    "\n",
    "\n",
    "\n"
   ]
  }
 ],
 "metadata": {
  "language_info": {
   "name": "python"
  }
 },
 "nbformat": 4,
 "nbformat_minor": 2
}
