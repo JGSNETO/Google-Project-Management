{
 "cells": [
  {
   "cell_type": "markdown",
   "metadata": {},
   "source": [
    "# Welcome to the Google Project Management Certificate\n",
    "\n",
    "- Project Management: The application of knowledge, skills, tools, and techniques to meet the project requirements and achieve the desired outcome. \n",
    "\n",
    "## Course Objectives\n",
    "\n",
    "- Understand which tyypes of jobs are suitable for you\n",
    "- Define key project management terms \n",
    "- Define roles and responsibilities \n",
    "- Types of jobs you can pursue\n",
    "- Define project lifecycle \n",
    "- Describe organizational structures and cultures"
   ]
  }
 ],
 "metadata": {
  "language_info": {
   "name": "python"
  }
 },
 "nbformat": 4,
 "nbformat_minor": 2
}
