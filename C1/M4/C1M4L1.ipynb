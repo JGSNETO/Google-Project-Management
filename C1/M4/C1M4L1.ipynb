{
 "cells": [
  {
   "cell_type": "markdown",
   "metadata": {},
   "source": [
    "# Organization Structure and Culture\n",
    "\n",
    "- The way a company or organization is arranged. \n",
    "\n",
    "## Classic Structure\n",
    "\n",
    "- Functional or top-down structure.\n",
    "\n",
    "## Matrix Structure\n",
    "\n",
    "- Direct higher-ups and stakeholders from other departments or programs. "
   ]
  },
  {
   "cell_type": "markdown",
   "metadata": {},
   "source": [
    "# A project manager's role within different organizational structures\n",
    "In the last video, you learned about the way a company is arranged, which is called organizational structure. You also learned that two of the most common organizational structures are Classic and Matrix. \n",
    "\n",
    "Understanding the differences in Classic and Matrix organizational structures can help you ask questions during a job interview to fully understand the role and responsibilities you are considering. This will also help you understand which skills will be most important for you to have if you get the position. \n",
    "\n",
    "Once you are hired into a role, knowing a company’s organizational structure can help you identify key points of communication and key stakeholders. It can also help you navigate within the organization when you need support or need to determine who has authority in a certain situation. Let’s examine the characteristics of each of these organizational structures in greater depth so you can identify the type of structure an organization has and how to navigate it as a project manager. \n",
    "\n",
    "## Classic organizational structures\n",
    "The Classic organizational structure is a top-down hierarchy system, where a Chief Executive Officer (CEO) has direct authority over several department managers. The department manager has direct authority over several other sections of employees. This system requires communication both up and down the ladder. In a Classic structure, authority comes from the top and filters to the bottom. Frequent reporting of project status updates may be required to pass up through management levels to keep higher leaders informed. \n",
    "\n",
    "Classic organizations are also referred to as functional organizations because the organization is divided into departments based on function. Each department is led by a functional manager, and employees are grouped according to the functions of their role. For example, the main function of Friendly Skies Airlines, an airline company, is to fly airplanes. There are typically departments logically arranged to fulfill other important company functions, such as Marketing, Human Resources, and Strategy. Employees usually have a specialty within the organization and may not work within other areas during normal everyday operations. \n",
    "\n",
    "# Managing a project in a Classic organization\n",
    "Friendly Skies Airlines has a Classic organizational structure, as indicated by its reporting or “org” chart.\n",
    "Imagine that the Friendly Skies Airlines Board of Directors approves an initiative to retrofit existing airplanes to carry more passengers. The CEO sponsors a project team to redesign the airplanes. The project will be led by a project manager from the Engineering and Innovation department and will require representatives from Finance, Marketing, Strategy, and Operations, along with several other team members from the Design department, to successfully complete the project. \n",
    "\n",
    "The project team will typically remain in their reporting lines but act as their own assembled team. They do not fall under any of the existing functional departments. In the Classic organizational structure, the project builds from already existing departments to form teams. \n",
    "\n",
    "If you are a project manager in this type of structure, you may need to consult with functional managers to understand your resources and the capacity of each teammate, as well as to familiarize yourself with each function’s internal processes and approval structure. Your authority may be slightly limited due to competing priorities, approval chains, and other complexities, but setting expectations up front will enable you to navigate the organization and execute your project successfully.\n",
    "\n",
    "# Matrix organizational structures\n",
    "The Matrix structure differs from the Classic structure in that the employees have two or more managers. In Matrix structures, you still have people above you, but you also have people in adjacent departments with whom you will need to communicate on your work progress. Functional areas tend to cross paths more frequently, and depending on the nature of the work, the responsible manager for each area has the most authority. \n",
    "\n",
    "As a project manager in a Matrix organization, a team will essentially have at least two chains of command, or managers. You can think of the project manager as being a temporary manager while assigned to the team. The functional manager is consistent regardless of the project a project manager is supporting. The visual below illustrates what the Friendly Skies Airlines would look like if it had a Matrix organizational structure.\n",
    "\n",
    "# Managing a project in a Matrix organization\n",
    "Imagine that Friendly Skies Airlines is organized in a Matrix structure. Their Product Excellence team develops a new amenity kit for long-haul flights. They ask the Project Manager to help gather marketing materials that present research data about how this product fulfills passenger desires. The Project Manager is working on behalf of the Product Excellence team, but they are able to work in partnership with the Marketing team to create these materials.  \n",
    "\n"
   ]
  },
  {
   "cell_type": "markdown",
   "metadata": {},
   "source": [
    "# How Organizaion structures impacts project management\n",
    "\n",
    "- Authority has to do with your ability to make decisions for the project that impact the organization. \n",
    "\n",
    "## Resources Availability\n",
    "\n",
    "- Knowing how to access the people, equipment and bidget needed for a project."
   ]
  },
  {
   "cell_type": "markdown",
   "metadata": {},
   "source": [
    "# The role of a Project Management Office\n",
    "In this lesson, you are learning about different types of organizational structures. Project managers serve key functions in both Classic and Matrix organizations. Within both of these types of structures, there is sometimes a group devoted specifically to project management in the organization: the Project Management Office. In this reading, we will discuss the purpose and functions of a Project Management Office.\n",
    "\n",
    "# What is a PMO?\n",
    "A Project Management Office, or PMO, is a group within an organization that defines, sets, and helps maintain project management standards and processes throughout that organization. It often acts as a coordinated center for all of the organization’s projects, helping them run more smoothly and efficiently.\n",
    "\n",
    "An organization’s project managers may operate within the PMO itself or within other departments. At Google, for example, there are project managers who work in a PMO focused on operational excellence, but there are numerous project and program managers in other departments throughout the organization, as well.\n",
    "\n",
    "# What are the functions of a PMO?\n",
    "PMOs offer guidance and support to their organization’s project managers. They share best practices, project statuses, and direction for all of the organization’s projects while often taking on strategic projects themselves. The main functions of a PMO include:\n",
    "\n",
    "## Strategic planning and governance\n",
    "This is the most important function of a PMO. This involves defining project criteria, selecting projects according to the organization’s business goals, and then providing a business case for those projects to management. \n",
    "\n",
    "## Best practices\n",
    "PMOs help implement best practices and processes within their organization. They also share lessons learned from previous successful projects. They help ensure consistency among their organization’s projects by providing guidance about processes, tools, and metrics.\n",
    "\n",
    "## Common project culture \n",
    "PMOs help set common project culture practices by training employees about optimal approaches and best practices. This helps keep project management practices consistent and efficient across the entire organization. \n",
    "\n",
    "## Resource management\n",
    "PMOs are often responsible for managing and allocating resources—such as people and equipment—across projects throughout the organization based on budget, priorities, schedules, and more. They also help define the roles and responsibilities needed on any given project. PMOs provide training, mentoring, and coaching to all employees, but project managers in particular. \n",
    "\n",
    "## Creation of project documentation, archives, and tools\n",
    "PMOs invest in and provide templates, tools, and software to help manage projects. They also play an important role in maintaining their organization’s project history. Once a project closes, they archive all of the documents created during the project for future reference and to capture lessons learned.\n",
    "\n",
    "## Key takeaway\n",
    "To recap, the key purposes of a PMO include: strategic planning and governance, implementing project management best practices, establishing common project culture, resource management, and creating project documentation, archives, and tools. PMOs support their organizations in managing large numbers of projects and help keep all employees working in the same direction towards the organization’s goals. \n",
    "\n"
   ]
  }
 ],
 "metadata": {
  "language_info": {
   "name": "python"
  }
 },
 "nbformat": 4,
 "nbformat_minor": 2
}
