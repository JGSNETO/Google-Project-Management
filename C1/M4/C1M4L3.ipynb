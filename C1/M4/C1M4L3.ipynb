{
 "cells": [
  {
   "cell_type": "markdown",
   "metadata": {},
   "source": [
    "# Introduction to change management\n",
    "\n",
    "## Change management \n",
    "\n",
    "- The process of delivering your completed project and getting people to adopt it. \n",
    "\n",
    "## Core concepts\n",
    "\n",
    "1. Create a sense of ownership and urgency. \n",
    "2. Figure out the right combination of skills and personalities. \n",
    "3. Effective communication. Being transparent, upfront with your plans and ideas, and making information available. "
   ]
  }
 ],
 "metadata": {
  "language_info": {
   "name": "python"
  }
 },
 "nbformat": 4,
 "nbformat_minor": 2
}
