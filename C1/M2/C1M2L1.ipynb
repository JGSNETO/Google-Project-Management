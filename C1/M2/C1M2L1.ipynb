{
 "cells": [
  {
   "cell_type": "markdown",
   "metadata": {},
   "source": [
    "# Exploring how Project Manager adds value\n",
    "\n",
    "## The value of a project manager\n",
    "- Project Managers: Shepherd projects from start to finish and serve as guides for their team, using their impeccable organiational and interpersonal skills every step of the way. \n",
    "\n",
    "1. Prioritization \n",
    "- Project managers add value to their teams and organizations through effective prioritization of tasks required to complete a project. \n",
    "- Stakeholders: People who are interested in and affected by the project's completion and success. \n",
    "\n",
    "2. Delegation\n",
    "- Project managers use delegation to add value to their teams and organizations by matching tasks to individuals who can best complete the work. \n",
    "\n",
    "3. Communication\n",
    "- Project managers deliver value through effective communication, both with their team and with key stakeholders."
   ]
  }
 ],
 "metadata": {
  "language_info": {
   "name": "python"
  }
 },
 "nbformat": 4,
 "nbformat_minor": 2
}
