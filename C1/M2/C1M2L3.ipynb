{
 "cells": [
  {
   "cell_type": "markdown",
   "metadata": {},
   "source": [
    "# The core skills of a project manager\n",
    "\n",
    "1. Enabling decision making\n",
    "- Gathering decisions from the appropriate leader, is crucial to keep projects on task and achieve their goals\n",
    "- You'll ensure that projects stay on schedule by gathering information from teammates and using those insights to help the team make informed decisions\n",
    "- You'll also make sure that those decisions are communicated to the necessary coworkers\n",
    "2. Communicating and escalating\n",
    "- As a project manager, you'll use your communication skills in just about everything you do. E.g: Focumenting plans, sending emails about the status of the project, or holding a meeting to escalate risks or issues to stakeholders\n",
    "3. Flexibility\n",
    "-  Plans definitively will change, even with careful upfront planning.\n",
    "- The only constant is change.\n",
    "4. Strong organization skills\n",
    "- A successful project manager needs strong organizational skills. As you learned earlier, the role of a project manager requires using a lot of different processes to keep the project on track. Having strong organizational skills means having the ability to organize these processes and the core elements of a project to ensure nothing gets lost or overlooked, which trust me, can and does happen.\n",
    "- To prevent this, you might decide to track daily tasks in a spreadsheet or send frequent status updates or reminders\n",
    "\n",
    "## Industry Knowledge\n",
    "- Tools\n",
    "- Templates\n",
    "- Project management styles\n",
    "\n",
    "# Leadership and team dynamics\n",
    "- Using your interpersonal skills is key to building relationships with the people involved in your project\n",
    "- Influencing without authority: A project manager's ability to guide teammates to complete their assigned work without acting as their direct managers.\n",
    "\n",
    "## Key interpersonal skills\n",
    "1. Communication\n",
    "2. Negotiation\n",
    "3. Conflict mediation\n",
    "4. Understanding motivations"
   ]
  }
 ],
 "metadata": {
  "language_info": {
   "name": "python"
  }
 },
 "nbformat": 4,
 "nbformat_minor": 2
}
