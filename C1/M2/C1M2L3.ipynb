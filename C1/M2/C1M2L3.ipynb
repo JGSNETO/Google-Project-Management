{
 "cells": [
  {
   "cell_type": "markdown",
   "metadata": {},
   "source": [
    "# The core skills of a project manager\n",
    "\n",
    "1. Enabling decision making\n",
    "- Gathering decisions from the appropriate leader, is crucial to keep projects on task and achieve their goals\n",
    "- You'll ensure that projects stay on schedule by gathering information from teammates and using those insights to help the team make informed decisions\n",
    "- You'll also make sure that those decisions are communicated to the necessary coworkers\n",
    "2. Communicating and escalating\n",
    "- As a project manager, you'll use your communication skills in just about everything you do. E.g: Focumenting plans, sending emails about the status of the project, or holding a meeting to escalate risks or issues to stakeholders\n",
    "3. Flexibility\n",
    "-  Plans definitively will change, even with careful upfront planning.\n",
    "- The only constant is change.\n",
    "4. Strong organization skills\n",
    "- A successful project manager needs strong organizational skills. As you learned earlier, the role of a project manager requires using a lot of different processes to keep the project on track. Having strong organizational skills means having the ability to organize these processes and the core elements of a project to ensure nothing gets lost or overlooked, which trust me, can and does happen.\n",
    "- To prevent this, you might decide to track daily tasks in a spreadsheet or send frequent status updates or reminders\n",
    "\n",
    "## Industry Knowledge\n",
    "- Tools\n",
    "- Templates\n",
    "- Project management styles\n",
    "\n",
    "# Leadership and team dynamics\n",
    "- Using your interpersonal skills is key to building relationships with the people involved in your project\n",
    "- Influencing without authority: A project manager's ability to guide teammates to complete their assigned work without acting as their direct managers.\n",
    "\n",
    "## Key interpersonal skills\n",
    "1. Communication\n",
    "2. Negotiation\n",
    "3. Conflict mediation\n",
    "4. Understanding motivations"
   ]
  },
  {
   "cell_type": "markdown",
   "metadata": {},
   "source": [
    "# Key competencies: Flexibility and handling ambiguity\n",
    "\n",
    "In the previous video, we discussed the four key competencies of a project manager: enabling decision-making, communicating and escalating, strong organizational skills, and flexibility. With time and practice, you will master these skills to help you become successful in a project management role. In this reading, we’ll dig deeper into why flexibility is essential for effective project management and how you can help your team deal with ambiguity. \n",
    "\n",
    "First, let’s review the other project management competencies you’ve learned about so far.\n",
    "\n",
    "## Enabling decision-making\n",
    "You can help team members feel empowered from the start of your project by making the decision-making process collaborative. For example, state the goals of specific deliverables and elicit input from your team on how to achieve those goals. You may have an idea of how you would like certain tasks to be accomplished, but your team members may have more creative or efficient approaches. Empowering your team to express their opinions and make their own decisions allows you to focus on the overarching management tasks and prioritize them in order of importance. Additionally, when you allow team members to have a voice in decisions, it helps foster an environment of responsibility, accountability, and team closeness. \n",
    "\n",
    "## Communicating and escalating\n",
    "Project management requires clearly communicating project goals and expectations, team member roles and responsibilities, and constructive feedback. Knowing how to effectively communicate and when to escalate issues to management is key to keeping you, your team, and your organization on the path to success. When escalation is required, try to approach management with both the problem and the potential solution or suggestions. This will show that you’re taking initiative as a project manager. \n",
    "\n",
    "## Strong organizational skills\n",
    "If you demonstrate that it is important for you, as a leader, to stay organized through efficient tracking and communications, your team will follow suit. One way to do this is by utilizing the abundance of organizational tools available, such as:\n",
    "\n",
    "1. Planning and scheduling software (templates, workflows, calendars)\n",
    "\n",
    "2. Collaboration tools (email, collaboration software, dashboards)\n",
    "\n",
    "3. Documentation (files, plans, spreadsheets)\n",
    "\n",
    "4. Quality assurance tools (evaluations, productivity trackers, reports)\n",
    "\n",
    "You may need to experiment with different organizational approaches to determine what works best for you and your team."
   ]
  },
  {
   "cell_type": "markdown",
   "metadata": {},
   "source": [
    "# Common myths about project managers\n",
    "We have talked about the skills that project managers need to be successful in their role. Now, let’s debunk some of the common myths about what is needed to be an effective project manager. \n",
    "\n",
    "## Myth: You have to be an expert in the field and have a lot of technical knowledge about the project. \n",
    "Reality: There are benefits to the project manager not having a lot of technical knowledge about a project. Rather than getting caught up in the technical details when communicating with management and stakeholders, the project manager can look at all of the different pieces that the cross-functional team is working on and assess how they each contribute to the success of the project. As a project manager, you bring on the right team members—with their differing areas of expertise—and trust them to be able to focus on the technical aspects of the project. Your job is to handle the communication, documentation, and organization necessary to get the project successfully to the finish line. \n",
    "\n",
    "Scenario: Jamar just landed his first project management job with a construction company.  He’s been tasked with managing the construction of a new elementary school in his city. He isn’t expected to know how to do all of the technical skills, like engineering, construction, plumbing, and electrical; he hires the right people for the job. He communicates the needs, timelines, and expectations of the project to his team members and stakeholders and helps break down any barriers to completing the project on time. Jamar helps the engineers and construction workers communicate with one another to ensure that they are all on the same page regarding the requirements. He makes sure that the materials are in place as needed for the plumbers and electricians. \n",
    "\n",
    "The bottom line: Project managers hire the experts and help put all the pieces of the project together. Project managers don’t need to be experts in every field.   "
   ]
  },
  {
   "cell_type": "markdown",
   "metadata": {},
   "source": [
    "## Myth: Only people with a lot of experience within an organization can manage projects successfully. \n",
    "Reality: It is a common misconception that anyone who has significant experience and success in an organization can manage projects there. In order to successfully manage projects in any organization, you must acquire the necessary skills, knowledge, tools, and techniques and be able to apply them. You don’t necessarily need to have worked in previous roles at that organization. In taking this certification, you are learning and practicing how to be an effective project manager before taking on a position.\n",
    "\n",
    "Scenario: Sofia is a supervisor at a large customer service call center. She has been recognized by leadership as a top performer. To reward her, management has offered her the role of project manager for the implementation of a new call center software program. It will be her job to oversee the installation, training, and implementation of the new process. Sofia tries to manage the project, but she has no idea how to create a project plan, manage the various members of her team, identify risks, or handle any of the other major project management tasks. She lets her manager know that she does not have the appropriate training to manage the project but that she would like to build those skills. Sofia’s manager enrolls her in a project management training course so that she will have the necessary skills to manage projects in the future. \n",
    "\n",
    "The bottom line: To be a successful project manager at any organization—regardless of whether you have worked there previously—it is essential to master the skills, tools, and techniques of project management."
   ]
  },
  {
   "cell_type": "markdown",
   "metadata": {},
   "source": [
    "## Myth: You have to know every single detail about the project at all times. \n",
    "Reality: Details matter in project execution, but as a project manager, you must also focus on the big picture and strategy for the project. What is the end goal? Do you and your team have a clear direction? If the whole team understands their objectives and has what they need to be successful in their tasks, they can work on the individual details and provide you space to supervise the overall project goals. Open lines of communication will help ensure that your team members share any possible risks to the budget or schedule with you. \n",
    "\n",
    "Scenario: Yui is a project manager working for a clothing company. The company is developing a new line of winter sleepwear that is set to launch in late October. Yui meets with the key stakeholders to determine their goals and timeline for the project. She recruits employees from the merchandising, exports, marketing, materials, production, and quality control departments to be a part of the project team. Yui meets with her team at the start of the project to clarify the objectives for the product line and checks in with them regularly to remove any barriers and find out where they need additional support. When a team member from the materials department informs Yui that the fabric they were planning on using for a particular style of pajamas has increased in price, Yui works with the team member to find a new supplier so that the overall project budget is not impacted. \n",
    "\n",
    "The bottom line: Your role as a project manager is to communicate with your stakeholders, clarify objectives, and set expectations. Trust your team to handle the details of each project task and communicate with you when there’s an issue. Through your direct communication and strategic approach to problem-solving, you can provide solutions and help remove barriers for your team. This is where you add value! \n",
    "\n",
    "We have just busted three project management myths! Recognizing these truths will help you be more confident and successful as you pursue your project manager career."
   ]
  }
 ],
 "metadata": {
  "language_info": {
   "name": "python"
  }
 },
 "nbformat": 4,
 "nbformat_minor": 2
}
