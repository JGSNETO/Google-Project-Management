{
 "cells": [
  {
   "cell_type": "markdown",
   "metadata": {},
   "source": [
    "# Learning more about project manager roles and responsibilities\n",
    "\n",
    "## Project Managements responsibilities\n",
    "\n",
    "1. Planning and organizing\n",
    "- Making use of productivity tools and creating processes\n",
    "- Create plans, timelines, schedules, and other forms of documentation to track project completion\n",
    "2. Managing tasks\n",
    "- A project task is an activity that needs to be accomplished within a set period of time by you, your team or your stakeholders\n",
    "3. Budgeting and controlling costs and other factors\n",
    "- Monitor and manage the budget\n",
    "- Track issues and risks\n",
    "- Manage quality\n",
    "- Remove unforeseen barriers\n",
    "\n",
    "# Teaching and mentoring\n",
    "As a project manager, you can serve as a mentor to your team. When you take the time to fully explain the expectations, you eliminate rework, confusion, and frustration. Mentoring and teaching others the lessons that you, as a project manager, have learned allows your team to make better choices and build on your experience. Mentoring also involves supporting each individual on your team in meeting expectations and helping them to exceed their own sense of personal potential.\n",
    "\n",
    "# Building relationships \n",
    "Relationships are everything! Getting to know your team members lets them know that you care about them as people, not just as employees. Taking the time to build relationships with your customers, clients, vendors, and other stakeholders is equally important. Dedicate time to check in with people. Pay attention to the insights they offer you about their work style since their actions can inform how to most effectively interact with them. Ask about their lives beyond the project, and then follow up on those discussions later on to show your interest. When you foster these relationships, you are all more invested in the success of your project.\n",
    "\n",
    "# Controlling change\n",
    "The American novelist Louis L’Amour wrote, “The only thing that never changes is that everything changes.” This applies to projects as well. Projects change as you continue to understand the expectations and the needs of your stakeholders. As a project manager, you need to remain flexible and adjust to the stakeholders’ needs. However, it is also important to protect your team from constant change and rework. A good way to do this is by documenting the initial expectations of the project and clearly identifying the changes being requested. It is also helpful to understand the budget and schedule impact of the changes and make sure that the stakeholders understand those impacts. As the project manager, you are responsible for protecting your team. \n",
    "\n",
    "# Empowering your team\n",
    "We all enjoy being heard and appreciated in our careers. Giving your team the ability to work directly with the stakeholders and their teams lets them know that you trust and believe in their skills! One of the best things about empowering your team is getting fresh ideas and passionate employees willing to help find solutions to problems. Another way you can empower your team is by delegating responsibilities to them, allowing them to make some decisions for the project, and using their input in the planning and execution of the project. Effective mentoring often leads to more empowered teams.\n",
    "\n",
    "# Communicating status and concerns\n",
    "As a project manager, communication is everything. With effective communication, you can work together with your team to find solutions to challenges. The project manager sets the tone for the project. Maintaining an open door policy and building trust within your team and among stakeholders—all while staying positive—will help the success of the project.\n",
    "\n",
    "# Key takeaway\n",
    "You have learned that project managers may be responsible for teaching and mentoring project team members, building relationships with the team and various stakeholders, controlling change and the impact to the project, empowering team members to make decisions, and communicating status and potential concerns. These interpersonal responsibilities can be just as important to the success of your projects as your more concrete responsibilities, like scheduling and budgeting.\n",
    "\n",
    "As you continue through this course, you will learn more about how these project manager responsibilities are embedded into the different phases of a project. \n",
    " \n",
    "# A project manager's role within a team\n",
    "\n",
    "- A project manager is not often the direct manager of the people working on a project team\n",
    "- Each person will be an expert on their portion of the projecct, but no one will be an expert on every aspect of the project \n",
    "- Hold team members accountable for their assigned tasks\n",
    "- Ensure that isues and risks are tracked and visible and with clear scalation path\n",
    "- Understand and help teammates to adopt the right workflows and project management styles\n",
    "- Collaborate with other teams at the organization to deliver solutions that meet the requirements based on project scope, schedule, and budget\n",
    "\n",
    "# A day in the life of a project manager\n",
    "\n",
    "- The more organized you are in your actions, the more organized your team is in their thinking and their actions. \n",
    "- I think it is important to make a decision, to get yourself unstuck, to follow through on that action, learn some things and decide to take a new action once you have learned something. "
   ]
  }
 ],
 "metadata": {
  "language_info": {
   "name": "python"
  }
 },
 "nbformat": 4,
 "nbformat_minor": 2
}
